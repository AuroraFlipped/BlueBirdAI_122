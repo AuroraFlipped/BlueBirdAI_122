{
 "cells": [
  {
   "cell_type": "code",
   "execution_count": 1,
   "id": "bd5df058",
   "metadata": {},
   "outputs": [
    {
     "name": "stdout",
     "output_type": "stream",
     "text": [
      "俞敏洪透露董宇辉离职幕后：深陷舆论风暴\n",
      "估值超200亿，百川智能完成50亿元A轮融资\n",
      "7月25日外媒科学网站摘要：安慰剂是如何缓解疼痛的？\n",
      "为什么OpenAI今年可能会亏损50亿美元？\n",
      "马斯克称考虑取消投资，墨西哥总统回击：说这话太草率\n",
      "马斯克询问网友：特斯拉向xAI投50亿美元行不行\n",
      "巴黎奥运会系列报道｜商汤日日新大模型亮相\n",
      "本田拟削减中国燃油车产能：149万辆→100万辆，关闭或停产两家工厂\n",
      "马斯克要跟扎克伯格“笼斗”！随时随地、任何规则\n",
      "抖音电商否认“上半年GMV未达预期”传闻\n",
      " “最懂苹果”分析师郭明錤：苹果将停产iPhone 17 Plus\n",
      "李斌回应蔚来“千站计划”迟缓问题：最多推迟一两个月\n",
      "美股七巨头一夜市值蒸发近6万亿元，创下12年以来最大单日跌幅\n",
      "报告｜同程旅行：奥运会开幕首周巴黎酒店预订热度同比涨4倍\n",
      "扎克伯格深度专访：中美AI竞争完全错误，美国别想长期领先中国\n",
      "OpenAI老板做的全民发钱实验，结果出来了！\n",
      "雷克萨斯将在华生产全新纯电车型，并销往日本？官方：不予置评\n",
      "起步价1.5元只能骑10分钟，哈啰单车变相涨价\n",
      "武汉萝卜快跑涨价，基本与网约车持平？我们测了一下\n",
      "小米汽车：近年内还没有在海外市场销售汽车的计划\n",
      "网红企业家风云榜：雷军成顶流，俞敏洪反超董明珠\n",
      "小红书变局：卖老股、边裁员边扩招，为上市“加速”\n",
      "微软Bing搜索结果引入AI摘要功能，逐步推进智能搜索体验\n",
      "抖音再攻图文，不止“围猎”小红书\n",
      "非洲之王，为何在印度栽跟头？\n",
      "企业蒙受巨额损失，CrowdStrike向受灾客户发放10美元礼品卡，又收回了\n",
      "特斯拉股价重挫12%，市值蒸发超800亿美元\n",
      "全球最大清洁能源滚装船完成交付，上汽自营船队扩容至32艘\n",
      "面对价格战，马斯克也无能为力了\n",
      "环球时报：美媒指责中国隐瞒超算实力毫无道理，美国才是元凶\n"
     ]
    }
   ],
   "source": [
    "str = '''\n",
    "    <!-- 科技 信息流静态化 -->\n",
    "    <a href=\"https://www.163.com/tech/article/J7VCGOM600098IEO.html\">俞敏洪透露董宇辉离职幕后：深陷舆论风暴</a>\n",
    "    <a href=\"https://www.163.com/dy/article/J7ULIOFR05118DFD.html\">估值超200亿，百川智能完成50亿元A轮融资</a>\n",
    "    <a href=\"https://www.163.com/tech/article/J7UM9CVT00097U81.html\">7月25日外媒科学网站摘要：安慰剂是如何缓解疼痛的？</a>\n",
    "    <a href=\"https://www.163.com/tech/article/J7U9OTHO00097U7T.html\">为什么OpenAI今年可能会亏损50亿美元？</a>\n",
    "    <a href=\"https://www.163.com/tech/article/J7U9LG7700097U7T.html\">马斯克称考虑取消投资，墨西哥总统回击：说这话太草率</a>\n",
    "    <a href=\"https://www.163.com/tech/article/J7U9I0D300097U7T.html\">马斯克询问网友：特斯拉向xAI投50亿美元行不行</a>\n",
    "    <a href=\"https://www.163.com/tech/article/J7V4OLU400098IEO.html\">巴黎奥运会系列报道｜商汤日日新大模型亮相</a>\n",
    "    <a href=\"https://www.163.com/dy/article/J7V47TFA0511B8LM.html\">本田拟削减中国燃油车产能：149万辆→100万辆，关闭或停产两家工厂</a>\n",
    "    <a href=\"https://www.163.com/dy/article/J7V1ONQ9051481US.html\">马斯克要跟扎克伯格“笼斗”！随时随地、任何规则</a>\n",
    "    <a href=\"https://www.163.com/tech/article/J7URIJRP00098IEO.html\">抖音电商否认“上半年GMV未达预期”传闻</a>\n",
    "    <a href=\"https://www.163.com/dy/article/J7UQ5M2L05198NMR.html\"> “最懂苹果”分析师郭明錤：苹果将停产iPhone 17 Plus</a>\n",
    "    <a href=\"https://www.163.com/dy/article/J7UI2RGL05476C4F.html\">李斌回应蔚来“千站计划”迟缓问题：最多推迟一两个月</a>\n",
    "    <a href=\"https://www.163.com/dy/article/J7UHQE7O0514R9P4.html\">美股七巨头一夜市值蒸发近6万亿元，创下12年以来最大单日跌幅</a>\n",
    "    <a href=\"https://www.163.com/tech/article/J7UFGHVC00098IEO.html\">报告｜同程旅行：奥运会开幕首周巴黎酒店预订热度同比涨4倍</a>\n",
    "    <a href=\"https://www.163.com/dy/article/J7SP2K20051180F7.html\">扎克伯格深度专访：中美AI竞争完全错误，美国别想长期领先中国</a>\n",
    "    <a href=\"https://www.163.com/dy/article/J7SMODLV05198NMR.html\">OpenAI老板做的全民发钱实验，结果出来了！</a>\n",
    "    <a href=\"https://www.163.com/dy/article/J7SQBHRO0511B8LM.html\">雷克萨斯将在华生产全新纯电车型，并销往日本？官方：不予置评</a>\n",
    "    <a href=\"https://www.163.com/dy/article/J7SU69NT051492T3.html\">起步价1.5元只能骑10分钟，哈啰单车变相涨价</a>\n",
    "    <a href=\"https://www.163.com/dy/article/J7T2DVUB0519U3I5.html\">武汉萝卜快跑涨价，基本与网约车持平？我们测了一下</a>\n",
    "    <a href=\"https://www.163.com/dy/article/J7T90BH20511B8LM.html\">小米汽车：近年内还没有在海外市场销售汽车的计划</a>\n",
    "    <a href=\"https://www.163.com/dy/article/J7UDK8C00519APGA.html\">网红企业家风云榜：雷军成顶流，俞敏洪反超董明珠</a>\n",
    "    <a href=\"https://www.163.com/dy/article/J7UC02TG05198R91.html\">小红书变局：卖老股、边裁员边扩招，为上市“加速”</a>\n",
    "    <a href=\"https://www.163.com/dy/article/J7UBV0LU0514R9OJ.html\">微软Bing搜索结果引入AI摘要功能，逐步推进智能搜索体验</a>\n",
    "    <a href=\"https://www.163.com/dy/article/J7UA0SUH05564B6E.html\">抖音再攻图文，不止“围猎”小红书</a>\n",
    "    <a href=\"https://www.163.com/dy/article/J7T1CR9L0539M9HP.html\">非洲之王，为何在印度栽跟头？</a>\n",
    "    <a href=\"https://www.163.com/dy/article/J7U6TVB60511B8LM.html\">企业蒙受巨额损失，CrowdStrike向受灾客户发放10美元礼品卡，又收回了</a>\n",
    "    <a href=\"https://www.163.com/dy/article/J7U6MLJR0519DDQ2.html\">特斯拉股价重挫12%，市值蒸发超800亿美元</a>\n",
    "    <a href=\"https://www.163.com/dy/article/J7U53BVN0511B8LM.html\">全球最大清洁能源滚装船完成交付，上汽自营船队扩容至32艘</a>\n",
    "    <a href=\"https://www.163.com/dy/article/J7U465G90527822Q.html\">面对价格战，马斯克也无能为力了</a>\n",
    "    <a href=\"https://www.163.com/dy/article/J7TBFVAI0514R9OJ.html\">环球时报：美媒指责中国隐瞒超算实力毫无道理，美国才是元凶</a>\n",
    "'''\n",
    "str_list = str.split('>')\n",
    "# print(str_list)\n",
    "for i in range(2,len(str_list),2):\n",
    "    print(str_list[i][:-3])"
   ]
  },
  {
   "cell_type": "markdown",
   "id": "8029f4dd",
   "metadata": {},
   "source": [
    "# 生成动态豆瓣地址"
   ]
  },
  {
   "cell_type": "code",
   "execution_count": 5,
   "id": "f525d96f",
   "metadata": {},
   "outputs": [
    {
     "name": "stdout",
     "output_type": "stream",
     "text": [
      "https://movie.douban.com/top250?start=0&filter=\n",
      "https://movie.douban.com/top250?start=25&filter=\n",
      "https://movie.douban.com/top250?start=50&filter=\n",
      "https://movie.douban.com/top250?start=75&filter=\n",
      "https://movie.douban.com/top250?start=100&filter=\n",
      "https://movie.douban.com/top250?start=125&filter=\n",
      "https://movie.douban.com/top250?start=150&filter=\n",
      "https://movie.douban.com/top250?start=175&filter=\n",
      "https://movie.douban.com/top250?start=200&filter=\n",
      "https://movie.douban.com/top250?start=225&filter=\n"
     ]
    }
   ],
   "source": [
    "# 利用for 循环生成\n",
    "for i in range(0,250,25):\n",
    "    print(f'https://movie.douban.com/top250?start={i}&filter=')"
   ]
  },
  {
   "cell_type": "markdown",
   "id": "4cb01806",
   "metadata": {},
   "source": [
    "# 爬豆瓣250"
   ]
  },
  {
   "cell_type": "code",
   "execution_count": 82,
   "id": "45884174",
   "metadata": {},
   "outputs": [
    {
     "name": "stdout",
     "output_type": "stream",
     "text": [
      "{'标题': ['肖申克的救赎', '霸王别姬', '阿甘正传', '泰坦尼克号', '千与千寻', '美丽人生', '这个杀手不太冷', '星际穿越', '盗梦空间', '楚门的世界', '辛德勒的名单', '忠犬八公的故事', '海上钢琴师', '三傻大闹宝莱坞', '放牛班的春天', '机器人总动员', '疯狂动物城', '无间道', '控方证人', '大话西游之大圣娶亲', '熔炉', '教父', '触不可及', '寻梦环游记', '当幸福来敲门'], '链接资源': ['https://movie.douban.com/subject/1292052/', 'https://movie.douban.com/subject/1291546/', 'https://movie.douban.com/subject/1292720/', 'https://movie.douban.com/subject/1292722/', 'https://movie.douban.com/subject/1291561/', 'https://movie.douban.com/subject/1292063/', 'https://movie.douban.com/subject/1295644/', 'https://movie.douban.com/subject/1889243/', 'https://movie.douban.com/subject/3541415/', 'https://movie.douban.com/subject/1292064/', 'https://movie.douban.com/subject/1295124/', 'https://movie.douban.com/subject/3011091/', 'https://movie.douban.com/subject/1292001/', 'https://movie.douban.com/subject/3793023/', 'https://movie.douban.com/subject/1291549/', 'https://movie.douban.com/subject/2131459/', 'https://movie.douban.com/subject/25662329/', 'https://movie.douban.com/subject/1307914/', 'https://movie.douban.com/subject/1296141/', 'https://movie.douban.com/subject/1292213/', 'https://movie.douban.com/subject/5912992/', 'https://movie.douban.com/subject/1291841/', 'https://movie.douban.com/subject/6786002/', 'https://movie.douban.com/subject/20495023/', 'https://movie.douban.com/subject/1849031/'], '图片资源': ['\"./TOP250_files/p480747492.webp\" class=\"\">', '\"./TOP250_files/p2561716440.webp\" class=\"\">', '\"./TOP250_files/p2372307693.webp\" class=\"\">', '\"./TOP250_files/p457760035.webp\" class=\"\">', '\"./TOP250_files/p2557573348.webp\" class=\"\">', '\"./TOP250_files/p2578474613.webp\" class=\"\">', '\"./TOP250_files/p2913554676.webp\" class=\"\">', '\"./TOP250_files/p2614988097.webp\" class=\"\">', '\"./TOP250_files/p513344864.webp\" class=\"\">', '\"./TOP250_files/p479682972.webp\" class=\"\">', '\"./TOP250_files/p492406163.webp\" class=\"\">', '\"./TOP250_files/p2587099240.webp\" class=\"\">', '\"./TOP250_files/p2914698334.webp\" class=\"\">', '\"./TOP250_files/p579729551.webp\" class=\"\">', '\"./TOP250_files/p2884280708.webp\" class=\"\">', '\"./TOP250_files/p1461851991.webp\" class=\"\">', '\"./TOP250_files/p2323981221.webp\" class=\"\">', '\"./TOP250_files/p2564556863.webp\" class=\"\">', '\"./TOP250_files/p2911817201.webp\" class=\"\">', '\"./TOP250_files/p2455050536.webp\" class=\"\">', '\"./TOP250_files/p1363250216.webp\" class=\"\">', '\"./TOP250_files/p616779645.webp\" class=\"\">', '\"./TOP250_files/p1454261925.webp\" class=\"\">', '\"./TOP250_files/p2505426431.webp\" class=\"\">', '\"./TOP250_files/p1312700628.webp\" class=\"\">']}\n"
     ]
    }
   ],
   "source": [
    "import csv\n",
    "\n",
    "with open(r'TOP250.html','r',encoding='utf-8') as f:\n",
    "    #定义一个字典保存我们需要的信息\n",
    "    movie_dict = {\n",
    "        '标题':[],\n",
    "        '链接资源':[],\n",
    "        '图片资源':[]\n",
    "    }\n",
    "    lines = f.readlines()\n",
    "    # print(lines)\n",
    "    # 通过循环我们首先拿到标题\n",
    "\n",
    "    for line in lines:\n",
    "        if '<span class=\"title\">' in line:\n",
    "            # 把标题外边的标签替换为空字符串\n",
    "            line = line.replace('<span class=\"title\">','').replace('</span>','')\n",
    "            #去掉标题的前后空白\n",
    "            line = line.strip()\n",
    "            #判断标题是否是中文，如果是那么保留\n",
    "            if 0x4e00 <= ord(line[0])<=0x9fa5:\n",
    "                # print(f'标题：{line}')\n",
    "                movie_dict['标题'].append(line)\n",
    "#             print(line)\n",
    "        #根据网页的结构发现所有的电影链接前缀都是一样的\n",
    "        #<a href=\"https://movie.douban.com/subject/\n",
    "        elif '<a href=\"https://movie.douban.com/subject/' in line:\n",
    "            #print(line)\n",
    "            movie_href = line.strip().replace('<a href=\"','').replace('\">','').replace('\" class=\"','')\n",
    "            if movie_href not in movie_dict['链接资源']:\n",
    "                movie_dict['链接资源'].append(movie_href)\n",
    "#             print(line)\n",
    "        # 根据网的结构发现所有的图片链接前缀都一样\n",
    "        # <img width=\"100\" alt=\"\n",
    "        elif '<img width=\"100\" alt=\"' in line:\n",
    "            #由于每一个图链接都是一个img标签，图片的链接保存在src属性当中，我们只要按照src拆分就可以拿到图片链接\n",
    "            #然后通过替换的方式我匀获取到图的资源链接\n",
    "            img_href = line.split('src=')[1].replace('\"class=\"\">','').strip()\n",
    "            #print(img_href)\n",
    "            #break\n",
    "            movie_dict['图片资源'].append(img_href)\n",
    "print(movie_dict)\n",
    "# 将爬取的结果写入csv中\n",
    "titles = movie_dict['标题']\n",
    "hrefs = movie_dict['链接资源']\n",
    "imgs = movie_dict['图片资源']\n",
    "for i in range(len(title)):\n",
    "    # print(f'标题：{titles[i]}')\n",
    "    # print(f'链接资源：{hrefs[i]}')\n",
    "    # print(f'图片资源：{imgs[i]}')\n",
    "    # print('*'*50)\n",
    "    #\n",
    "    with open('./move.csv',mode='w',encoding='gbk',newline='') as fw:\n",
    "        csvfile = csv.writer(fw)\n",
    "        csvfile.writerow(['标题','链接资源','图片资源'])\n",
    "        for i in range(25):\n",
    "            csvfile.writerow([titles[i],hrefs[i],imgs[i]])"
   ]
  },
  {
   "cell_type": "code",
   "execution_count": null,
   "id": "8414e979",
   "metadata": {},
   "outputs": [],
   "source": []
  }
 ],
 "metadata": {
  "kernelspec": {
   "display_name": "Python 3 (ipykernel)",
   "language": "python",
   "name": "python3"
  },
  "language_info": {
   "codemirror_mode": {
    "name": "ipython",
    "version": 3
   },
   "file_extension": ".py",
   "mimetype": "text/x-python",
   "name": "python",
   "nbconvert_exporter": "python",
   "pygments_lexer": "ipython3",
   "version": "3.9.7"
  }
 },
 "nbformat": 4,
 "nbformat_minor": 5
}
