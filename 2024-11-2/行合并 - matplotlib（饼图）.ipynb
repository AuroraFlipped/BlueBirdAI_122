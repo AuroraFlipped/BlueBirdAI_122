{
 "cells": [
  {
   "cell_type": "code",
   "execution_count": 1,
   "id": "06b147d5",
   "metadata": {},
   "outputs": [],
   "source": [
    "# 构造数据\n",
    "import numpy as np\n",
    "import pandas as pd\n",
    "df1 = pd.DataFrame(np.arange(0,16).reshape(4,4),columns = list('ABCD'))\n",
    "df2 = pd.DataFrame(np.arange(17,33).reshape(4,4),columns = list('ABCD'))"
   ]
  },
  {
   "cell_type": "code",
   "execution_count": 2,
   "id": "71a1f2be",
   "metadata": {},
   "outputs": [
    {
     "data": {
      "text/html": [
       "<div>\n",
       "<style scoped>\n",
       "    .dataframe tbody tr th:only-of-type {\n",
       "        vertical-align: middle;\n",
       "    }\n",
       "\n",
       "    .dataframe tbody tr th {\n",
       "        vertical-align: top;\n",
       "    }\n",
       "\n",
       "    .dataframe thead th {\n",
       "        text-align: right;\n",
       "    }\n",
       "</style>\n",
       "<table border=\"1\" class=\"dataframe\">\n",
       "  <thead>\n",
       "    <tr style=\"text-align: right;\">\n",
       "      <th></th>\n",
       "      <th>A</th>\n",
       "      <th>B</th>\n",
       "      <th>C</th>\n",
       "      <th>D</th>\n",
       "    </tr>\n",
       "  </thead>\n",
       "  <tbody>\n",
       "    <tr>\n",
       "      <th>0</th>\n",
       "      <td>0</td>\n",
       "      <td>1</td>\n",
       "      <td>2</td>\n",
       "      <td>3</td>\n",
       "    </tr>\n",
       "    <tr>\n",
       "      <th>1</th>\n",
       "      <td>4</td>\n",
       "      <td>5</td>\n",
       "      <td>6</td>\n",
       "      <td>7</td>\n",
       "    </tr>\n",
       "    <tr>\n",
       "      <th>2</th>\n",
       "      <td>8</td>\n",
       "      <td>9</td>\n",
       "      <td>10</td>\n",
       "      <td>11</td>\n",
       "    </tr>\n",
       "    <tr>\n",
       "      <th>3</th>\n",
       "      <td>12</td>\n",
       "      <td>13</td>\n",
       "      <td>14</td>\n",
       "      <td>15</td>\n",
       "    </tr>\n",
       "  </tbody>\n",
       "</table>\n",
       "</div>"
      ],
      "text/plain": [
       "    A   B   C   D\n",
       "0   0   1   2   3\n",
       "1   4   5   6   7\n",
       "2   8   9  10  11\n",
       "3  12  13  14  15"
      ]
     },
     "execution_count": 2,
     "metadata": {},
     "output_type": "execute_result"
    }
   ],
   "source": [
    "df1"
   ]
  },
  {
   "cell_type": "code",
   "execution_count": 3,
   "id": "3734f3e8",
   "metadata": {},
   "outputs": [
    {
     "data": {
      "text/html": [
       "<div>\n",
       "<style scoped>\n",
       "    .dataframe tbody tr th:only-of-type {\n",
       "        vertical-align: middle;\n",
       "    }\n",
       "\n",
       "    .dataframe tbody tr th {\n",
       "        vertical-align: top;\n",
       "    }\n",
       "\n",
       "    .dataframe thead th {\n",
       "        text-align: right;\n",
       "    }\n",
       "</style>\n",
       "<table border=\"1\" class=\"dataframe\">\n",
       "  <thead>\n",
       "    <tr style=\"text-align: right;\">\n",
       "      <th></th>\n",
       "      <th>A</th>\n",
       "      <th>B</th>\n",
       "      <th>C</th>\n",
       "      <th>D</th>\n",
       "    </tr>\n",
       "  </thead>\n",
       "  <tbody>\n",
       "    <tr>\n",
       "      <th>0</th>\n",
       "      <td>17</td>\n",
       "      <td>18</td>\n",
       "      <td>19</td>\n",
       "      <td>20</td>\n",
       "    </tr>\n",
       "    <tr>\n",
       "      <th>1</th>\n",
       "      <td>21</td>\n",
       "      <td>22</td>\n",
       "      <td>23</td>\n",
       "      <td>24</td>\n",
       "    </tr>\n",
       "    <tr>\n",
       "      <th>2</th>\n",
       "      <td>25</td>\n",
       "      <td>26</td>\n",
       "      <td>27</td>\n",
       "      <td>28</td>\n",
       "    </tr>\n",
       "    <tr>\n",
       "      <th>3</th>\n",
       "      <td>29</td>\n",
       "      <td>30</td>\n",
       "      <td>31</td>\n",
       "      <td>32</td>\n",
       "    </tr>\n",
       "  </tbody>\n",
       "</table>\n",
       "</div>"
      ],
      "text/plain": [
       "    A   B   C   D\n",
       "0  17  18  19  20\n",
       "1  21  22  23  24\n",
       "2  25  26  27  28\n",
       "3  29  30  31  32"
      ]
     },
     "execution_count": 3,
     "metadata": {},
     "output_type": "execute_result"
    }
   ],
   "source": [
    "df2"
   ]
  },
  {
   "cell_type": "markdown",
   "id": "e0f61e75",
   "metadata": {},
   "source": [
    "# 基于行合并"
   ]
  },
  {
   "cell_type": "code",
   "execution_count": 4,
   "id": "11da4d0c",
   "metadata": {},
   "outputs": [
    {
     "data": {
      "text/html": [
       "<div>\n",
       "<style scoped>\n",
       "    .dataframe tbody tr th:only-of-type {\n",
       "        vertical-align: middle;\n",
       "    }\n",
       "\n",
       "    .dataframe tbody tr th {\n",
       "        vertical-align: top;\n",
       "    }\n",
       "\n",
       "    .dataframe thead th {\n",
       "        text-align: right;\n",
       "    }\n",
       "</style>\n",
       "<table border=\"1\" class=\"dataframe\">\n",
       "  <thead>\n",
       "    <tr style=\"text-align: right;\">\n",
       "      <th></th>\n",
       "      <th>A</th>\n",
       "      <th>B</th>\n",
       "      <th>C</th>\n",
       "      <th>D</th>\n",
       "    </tr>\n",
       "  </thead>\n",
       "  <tbody>\n",
       "    <tr>\n",
       "      <th>0</th>\n",
       "      <td>0</td>\n",
       "      <td>1</td>\n",
       "      <td>2</td>\n",
       "      <td>3</td>\n",
       "    </tr>\n",
       "    <tr>\n",
       "      <th>1</th>\n",
       "      <td>4</td>\n",
       "      <td>5</td>\n",
       "      <td>6</td>\n",
       "      <td>7</td>\n",
       "    </tr>\n",
       "    <tr>\n",
       "      <th>2</th>\n",
       "      <td>8</td>\n",
       "      <td>9</td>\n",
       "      <td>10</td>\n",
       "      <td>11</td>\n",
       "    </tr>\n",
       "    <tr>\n",
       "      <th>3</th>\n",
       "      <td>12</td>\n",
       "      <td>13</td>\n",
       "      <td>14</td>\n",
       "      <td>15</td>\n",
       "    </tr>\n",
       "    <tr>\n",
       "      <th>0</th>\n",
       "      <td>17</td>\n",
       "      <td>18</td>\n",
       "      <td>19</td>\n",
       "      <td>20</td>\n",
       "    </tr>\n",
       "    <tr>\n",
       "      <th>1</th>\n",
       "      <td>21</td>\n",
       "      <td>22</td>\n",
       "      <td>23</td>\n",
       "      <td>24</td>\n",
       "    </tr>\n",
       "    <tr>\n",
       "      <th>2</th>\n",
       "      <td>25</td>\n",
       "      <td>26</td>\n",
       "      <td>27</td>\n",
       "      <td>28</td>\n",
       "    </tr>\n",
       "    <tr>\n",
       "      <th>3</th>\n",
       "      <td>29</td>\n",
       "      <td>30</td>\n",
       "      <td>31</td>\n",
       "      <td>32</td>\n",
       "    </tr>\n",
       "  </tbody>\n",
       "</table>\n",
       "</div>"
      ],
      "text/plain": [
       "    A   B   C   D\n",
       "0   0   1   2   3\n",
       "1   4   5   6   7\n",
       "2   8   9  10  11\n",
       "3  12  13  14  15\n",
       "0  17  18  19  20\n",
       "1  21  22  23  24\n",
       "2  25  26  27  28\n",
       "3  29  30  31  32"
      ]
     },
     "execution_count": 4,
     "metadata": {},
     "output_type": "execute_result"
    }
   ],
   "source": [
    "pd.concat([df1,df2])"
   ]
  },
  {
   "cell_type": "code",
   "execution_count": 5,
   "id": "a5f97708",
   "metadata": {},
   "outputs": [
    {
     "data": {
      "text/html": [
       "<div>\n",
       "<style scoped>\n",
       "    .dataframe tbody tr th:only-of-type {\n",
       "        vertical-align: middle;\n",
       "    }\n",
       "\n",
       "    .dataframe tbody tr th {\n",
       "        vertical-align: top;\n",
       "    }\n",
       "\n",
       "    .dataframe thead th {\n",
       "        text-align: right;\n",
       "    }\n",
       "</style>\n",
       "<table border=\"1\" class=\"dataframe\">\n",
       "  <thead>\n",
       "    <tr style=\"text-align: right;\">\n",
       "      <th></th>\n",
       "      <th>index</th>\n",
       "      <th>A</th>\n",
       "      <th>B</th>\n",
       "      <th>C</th>\n",
       "      <th>D</th>\n",
       "    </tr>\n",
       "  </thead>\n",
       "  <tbody>\n",
       "    <tr>\n",
       "      <th>0</th>\n",
       "      <td>0</td>\n",
       "      <td>0</td>\n",
       "      <td>1</td>\n",
       "      <td>2</td>\n",
       "      <td>3</td>\n",
       "    </tr>\n",
       "    <tr>\n",
       "      <th>1</th>\n",
       "      <td>1</td>\n",
       "      <td>4</td>\n",
       "      <td>5</td>\n",
       "      <td>6</td>\n",
       "      <td>7</td>\n",
       "    </tr>\n",
       "    <tr>\n",
       "      <th>2</th>\n",
       "      <td>2</td>\n",
       "      <td>8</td>\n",
       "      <td>9</td>\n",
       "      <td>10</td>\n",
       "      <td>11</td>\n",
       "    </tr>\n",
       "    <tr>\n",
       "      <th>3</th>\n",
       "      <td>3</td>\n",
       "      <td>12</td>\n",
       "      <td>13</td>\n",
       "      <td>14</td>\n",
       "      <td>15</td>\n",
       "    </tr>\n",
       "    <tr>\n",
       "      <th>4</th>\n",
       "      <td>0</td>\n",
       "      <td>17</td>\n",
       "      <td>18</td>\n",
       "      <td>19</td>\n",
       "      <td>20</td>\n",
       "    </tr>\n",
       "    <tr>\n",
       "      <th>5</th>\n",
       "      <td>1</td>\n",
       "      <td>21</td>\n",
       "      <td>22</td>\n",
       "      <td>23</td>\n",
       "      <td>24</td>\n",
       "    </tr>\n",
       "    <tr>\n",
       "      <th>6</th>\n",
       "      <td>2</td>\n",
       "      <td>25</td>\n",
       "      <td>26</td>\n",
       "      <td>27</td>\n",
       "      <td>28</td>\n",
       "    </tr>\n",
       "    <tr>\n",
       "      <th>7</th>\n",
       "      <td>3</td>\n",
       "      <td>29</td>\n",
       "      <td>30</td>\n",
       "      <td>31</td>\n",
       "      <td>32</td>\n",
       "    </tr>\n",
       "  </tbody>\n",
       "</table>\n",
       "</div>"
      ],
      "text/plain": [
       "   index   A   B   C   D\n",
       "0      0   0   1   2   3\n",
       "1      1   4   5   6   7\n",
       "2      2   8   9  10  11\n",
       "3      3  12  13  14  15\n",
       "4      0  17  18  19  20\n",
       "5      1  21  22  23  24\n",
       "6      2  25  26  27  28\n",
       "7      3  29  30  31  32"
      ]
     },
     "execution_count": 5,
     "metadata": {},
     "output_type": "execute_result"
    }
   ],
   "source": [
    "pd.concat([df1,df2]).reset_index()"
   ]
  },
  {
   "cell_type": "markdown",
   "id": "f766ce0a",
   "metadata": {},
   "source": [
    "# 基于列合并"
   ]
  },
  {
   "cell_type": "code",
   "execution_count": 6,
   "id": "b7eb9fde",
   "metadata": {},
   "outputs": [
    {
     "data": {
      "text/html": [
       "<div>\n",
       "<style scoped>\n",
       "    .dataframe tbody tr th:only-of-type {\n",
       "        vertical-align: middle;\n",
       "    }\n",
       "\n",
       "    .dataframe tbody tr th {\n",
       "        vertical-align: top;\n",
       "    }\n",
       "\n",
       "    .dataframe thead th {\n",
       "        text-align: right;\n",
       "    }\n",
       "</style>\n",
       "<table border=\"1\" class=\"dataframe\">\n",
       "  <thead>\n",
       "    <tr style=\"text-align: right;\">\n",
       "      <th></th>\n",
       "      <th>A</th>\n",
       "      <th>B</th>\n",
       "      <th>C</th>\n",
       "      <th>D</th>\n",
       "      <th>A</th>\n",
       "      <th>B</th>\n",
       "      <th>C</th>\n",
       "      <th>D</th>\n",
       "    </tr>\n",
       "  </thead>\n",
       "  <tbody>\n",
       "    <tr>\n",
       "      <th>0</th>\n",
       "      <td>0</td>\n",
       "      <td>1</td>\n",
       "      <td>2</td>\n",
       "      <td>3</td>\n",
       "      <td>17</td>\n",
       "      <td>18</td>\n",
       "      <td>19</td>\n",
       "      <td>20</td>\n",
       "    </tr>\n",
       "    <tr>\n",
       "      <th>1</th>\n",
       "      <td>4</td>\n",
       "      <td>5</td>\n",
       "      <td>6</td>\n",
       "      <td>7</td>\n",
       "      <td>21</td>\n",
       "      <td>22</td>\n",
       "      <td>23</td>\n",
       "      <td>24</td>\n",
       "    </tr>\n",
       "    <tr>\n",
       "      <th>2</th>\n",
       "      <td>8</td>\n",
       "      <td>9</td>\n",
       "      <td>10</td>\n",
       "      <td>11</td>\n",
       "      <td>25</td>\n",
       "      <td>26</td>\n",
       "      <td>27</td>\n",
       "      <td>28</td>\n",
       "    </tr>\n",
       "    <tr>\n",
       "      <th>3</th>\n",
       "      <td>12</td>\n",
       "      <td>13</td>\n",
       "      <td>14</td>\n",
       "      <td>15</td>\n",
       "      <td>29</td>\n",
       "      <td>30</td>\n",
       "      <td>31</td>\n",
       "      <td>32</td>\n",
       "    </tr>\n",
       "  </tbody>\n",
       "</table>\n",
       "</div>"
      ],
      "text/plain": [
       "    A   B   C   D   A   B   C   D\n",
       "0   0   1   2   3  17  18  19  20\n",
       "1   4   5   6   7  21  22  23  24\n",
       "2   8   9  10  11  25  26  27  28\n",
       "3  12  13  14  15  29  30  31  32"
      ]
     },
     "execution_count": 6,
     "metadata": {},
     "output_type": "execute_result"
    }
   ],
   "source": [
    "pd.concat([df1,df2],axis = 'columns')"
   ]
  },
  {
   "cell_type": "code",
   "execution_count": 7,
   "id": "48ad5d01",
   "metadata": {},
   "outputs": [],
   "source": [
    "# 构造数据\n",
    "import numpy as np\n",
    "import pandas as pd\n",
    "df1 = pd.DataFrame(np.arange(0,16).reshape(4,4),columns = list('ABCD'))\n",
    "df2 = pd.DataFrame(np.arange(17,33).reshape(4,4),columns = list('ABCD'))"
   ]
  },
  {
   "cell_type": "code",
   "execution_count": 8,
   "id": "013aefef",
   "metadata": {},
   "outputs": [
    {
     "data": {
      "text/html": [
       "<div>\n",
       "<style scoped>\n",
       "    .dataframe tbody tr th:only-of-type {\n",
       "        vertical-align: middle;\n",
       "    }\n",
       "\n",
       "    .dataframe tbody tr th {\n",
       "        vertical-align: top;\n",
       "    }\n",
       "\n",
       "    .dataframe thead th {\n",
       "        text-align: right;\n",
       "    }\n",
       "</style>\n",
       "<table border=\"1\" class=\"dataframe\">\n",
       "  <thead>\n",
       "    <tr style=\"text-align: right;\">\n",
       "      <th></th>\n",
       "      <th>A</th>\n",
       "      <th>B</th>\n",
       "      <th>C</th>\n",
       "      <th>D</th>\n",
       "    </tr>\n",
       "  </thead>\n",
       "  <tbody>\n",
       "    <tr>\n",
       "      <th>0</th>\n",
       "      <td>0</td>\n",
       "      <td>1</td>\n",
       "      <td>2</td>\n",
       "      <td>3</td>\n",
       "    </tr>\n",
       "    <tr>\n",
       "      <th>1</th>\n",
       "      <td>4</td>\n",
       "      <td>5</td>\n",
       "      <td>6</td>\n",
       "      <td>7</td>\n",
       "    </tr>\n",
       "    <tr>\n",
       "      <th>2</th>\n",
       "      <td>8</td>\n",
       "      <td>9</td>\n",
       "      <td>10</td>\n",
       "      <td>11</td>\n",
       "    </tr>\n",
       "    <tr>\n",
       "      <th>3</th>\n",
       "      <td>12</td>\n",
       "      <td>13</td>\n",
       "      <td>14</td>\n",
       "      <td>15</td>\n",
       "    </tr>\n",
       "  </tbody>\n",
       "</table>\n",
       "</div>"
      ],
      "text/plain": [
       "    A   B   C   D\n",
       "0   0   1   2   3\n",
       "1   4   5   6   7\n",
       "2   8   9  10  11\n",
       "3  12  13  14  15"
      ]
     },
     "execution_count": 8,
     "metadata": {},
     "output_type": "execute_result"
    }
   ],
   "source": [
    "df1"
   ]
  },
  {
   "cell_type": "code",
   "execution_count": 9,
   "id": "3600c5ab",
   "metadata": {},
   "outputs": [],
   "source": [
    "# 内连接—取交集\n",
    "# 首先重新命名df1行的索引，使df1与df2的索引不同"
   ]
  },
  {
   "cell_type": "code",
   "execution_count": 10,
   "id": "75220b6d",
   "metadata": {},
   "outputs": [
    {
     "data": {
      "text/html": [
       "<div>\n",
       "<style scoped>\n",
       "    .dataframe tbody tr th:only-of-type {\n",
       "        vertical-align: middle;\n",
       "    }\n",
       "\n",
       "    .dataframe tbody tr th {\n",
       "        vertical-align: top;\n",
       "    }\n",
       "\n",
       "    .dataframe thead th {\n",
       "        text-align: right;\n",
       "    }\n",
       "</style>\n",
       "<table border=\"1\" class=\"dataframe\">\n",
       "  <thead>\n",
       "    <tr style=\"text-align: right;\">\n",
       "      <th></th>\n",
       "      <th>A</th>\n",
       "      <th>B</th>\n",
       "      <th>C</th>\n",
       "      <th>D</th>\n",
       "    </tr>\n",
       "  </thead>\n",
       "  <tbody>\n",
       "    <tr>\n",
       "      <th>1</th>\n",
       "      <td>0</td>\n",
       "      <td>1</td>\n",
       "      <td>2</td>\n",
       "      <td>3</td>\n",
       "    </tr>\n",
       "    <tr>\n",
       "      <th>2</th>\n",
       "      <td>4</td>\n",
       "      <td>5</td>\n",
       "      <td>6</td>\n",
       "      <td>7</td>\n",
       "    </tr>\n",
       "    <tr>\n",
       "      <th>3</th>\n",
       "      <td>8</td>\n",
       "      <td>9</td>\n",
       "      <td>10</td>\n",
       "      <td>11</td>\n",
       "    </tr>\n",
       "    <tr>\n",
       "      <th>4</th>\n",
       "      <td>12</td>\n",
       "      <td>13</td>\n",
       "      <td>14</td>\n",
       "      <td>15</td>\n",
       "    </tr>\n",
       "  </tbody>\n",
       "</table>\n",
       "</div>"
      ],
      "text/plain": [
       "    A   B   C   D\n",
       "1   0   1   2   3\n",
       "2   4   5   6   7\n",
       "3   8   9  10  11\n",
       "4  12  13  14  15"
      ]
     },
     "execution_count": 10,
     "metadata": {},
     "output_type": "execute_result"
    }
   ],
   "source": [
    "df1.rename(index = {0:1,1:2,2:3,3:4},inplace = True)\n",
    "df1"
   ]
  },
  {
   "cell_type": "code",
   "execution_count": 11,
   "id": "7bfea06b",
   "metadata": {},
   "outputs": [
    {
     "data": {
      "text/html": [
       "<div>\n",
       "<style scoped>\n",
       "    .dataframe tbody tr th:only-of-type {\n",
       "        vertical-align: middle;\n",
       "    }\n",
       "\n",
       "    .dataframe tbody tr th {\n",
       "        vertical-align: top;\n",
       "    }\n",
       "\n",
       "    .dataframe thead th {\n",
       "        text-align: right;\n",
       "    }\n",
       "</style>\n",
       "<table border=\"1\" class=\"dataframe\">\n",
       "  <thead>\n",
       "    <tr style=\"text-align: right;\">\n",
       "      <th></th>\n",
       "      <th>A</th>\n",
       "      <th>B</th>\n",
       "      <th>C</th>\n",
       "      <th>D</th>\n",
       "    </tr>\n",
       "  </thead>\n",
       "  <tbody>\n",
       "    <tr>\n",
       "      <th>0</th>\n",
       "      <td>17</td>\n",
       "      <td>18</td>\n",
       "      <td>19</td>\n",
       "      <td>20</td>\n",
       "    </tr>\n",
       "    <tr>\n",
       "      <th>1</th>\n",
       "      <td>21</td>\n",
       "      <td>22</td>\n",
       "      <td>23</td>\n",
       "      <td>24</td>\n",
       "    </tr>\n",
       "    <tr>\n",
       "      <th>2</th>\n",
       "      <td>25</td>\n",
       "      <td>26</td>\n",
       "      <td>27</td>\n",
       "      <td>28</td>\n",
       "    </tr>\n",
       "    <tr>\n",
       "      <th>3</th>\n",
       "      <td>29</td>\n",
       "      <td>30</td>\n",
       "      <td>31</td>\n",
       "      <td>32</td>\n",
       "    </tr>\n",
       "  </tbody>\n",
       "</table>\n",
       "</div>"
      ],
      "text/plain": [
       "    A   B   C   D\n",
       "0  17  18  19  20\n",
       "1  21  22  23  24\n",
       "2  25  26  27  28\n",
       "3  29  30  31  32"
      ]
     },
     "execution_count": 11,
     "metadata": {},
     "output_type": "execute_result"
    }
   ],
   "source": [
    "df2"
   ]
  },
  {
   "cell_type": "code",
   "execution_count": 12,
   "id": "e59d79c5",
   "metadata": {},
   "outputs": [
    {
     "data": {
      "text/html": [
       "<div>\n",
       "<style scoped>\n",
       "    .dataframe tbody tr th:only-of-type {\n",
       "        vertical-align: middle;\n",
       "    }\n",
       "\n",
       "    .dataframe tbody tr th {\n",
       "        vertical-align: top;\n",
       "    }\n",
       "\n",
       "    .dataframe thead th {\n",
       "        text-align: right;\n",
       "    }\n",
       "</style>\n",
       "<table border=\"1\" class=\"dataframe\">\n",
       "  <thead>\n",
       "    <tr style=\"text-align: right;\">\n",
       "      <th></th>\n",
       "      <th>A</th>\n",
       "      <th>B</th>\n",
       "      <th>C</th>\n",
       "      <th>D</th>\n",
       "      <th>A</th>\n",
       "      <th>B</th>\n",
       "      <th>C</th>\n",
       "      <th>D</th>\n",
       "    </tr>\n",
       "  </thead>\n",
       "  <tbody>\n",
       "    <tr>\n",
       "      <th>1</th>\n",
       "      <td>0</td>\n",
       "      <td>1</td>\n",
       "      <td>2</td>\n",
       "      <td>3</td>\n",
       "      <td>21</td>\n",
       "      <td>22</td>\n",
       "      <td>23</td>\n",
       "      <td>24</td>\n",
       "    </tr>\n",
       "    <tr>\n",
       "      <th>2</th>\n",
       "      <td>4</td>\n",
       "      <td>5</td>\n",
       "      <td>6</td>\n",
       "      <td>7</td>\n",
       "      <td>25</td>\n",
       "      <td>26</td>\n",
       "      <td>27</td>\n",
       "      <td>28</td>\n",
       "    </tr>\n",
       "    <tr>\n",
       "      <th>3</th>\n",
       "      <td>8</td>\n",
       "      <td>9</td>\n",
       "      <td>10</td>\n",
       "      <td>11</td>\n",
       "      <td>29</td>\n",
       "      <td>30</td>\n",
       "      <td>31</td>\n",
       "      <td>32</td>\n",
       "    </tr>\n",
       "  </tbody>\n",
       "</table>\n",
       "</div>"
      ],
      "text/plain": [
       "   A  B   C   D   A   B   C   D\n",
       "1  0  1   2   3  21  22  23  24\n",
       "2  4  5   6   7  25  26  27  28\n",
       "3  8  9  10  11  29  30  31  32"
      ]
     },
     "execution_count": 12,
     "metadata": {},
     "output_type": "execute_result"
    }
   ],
   "source": [
    "data2 = pd.concat([df1,df2],axis = 1,join = 'inner')\n",
    "data2"
   ]
  },
  {
   "cell_type": "code",
   "execution_count": 13,
   "id": "64317d16",
   "metadata": {},
   "outputs": [
    {
     "data": {
      "text/html": [
       "<div>\n",
       "<style scoped>\n",
       "    .dataframe tbody tr th:only-of-type {\n",
       "        vertical-align: middle;\n",
       "    }\n",
       "\n",
       "    .dataframe tbody tr th {\n",
       "        vertical-align: top;\n",
       "    }\n",
       "\n",
       "    .dataframe thead th {\n",
       "        text-align: right;\n",
       "    }\n",
       "</style>\n",
       "<table border=\"1\" class=\"dataframe\">\n",
       "  <thead>\n",
       "    <tr style=\"text-align: right;\">\n",
       "      <th></th>\n",
       "      <th>A</th>\n",
       "      <th>B</th>\n",
       "      <th>C</th>\n",
       "      <th>D</th>\n",
       "      <th>A</th>\n",
       "      <th>B</th>\n",
       "      <th>C</th>\n",
       "      <th>D</th>\n",
       "    </tr>\n",
       "  </thead>\n",
       "  <tbody>\n",
       "    <tr>\n",
       "      <th>0</th>\n",
       "      <td>NaN</td>\n",
       "      <td>NaN</td>\n",
       "      <td>NaN</td>\n",
       "      <td>NaN</td>\n",
       "      <td>17.0</td>\n",
       "      <td>18.0</td>\n",
       "      <td>19.0</td>\n",
       "      <td>20.0</td>\n",
       "    </tr>\n",
       "    <tr>\n",
       "      <th>1</th>\n",
       "      <td>0.0</td>\n",
       "      <td>1.0</td>\n",
       "      <td>2.0</td>\n",
       "      <td>3.0</td>\n",
       "      <td>21.0</td>\n",
       "      <td>22.0</td>\n",
       "      <td>23.0</td>\n",
       "      <td>24.0</td>\n",
       "    </tr>\n",
       "    <tr>\n",
       "      <th>2</th>\n",
       "      <td>4.0</td>\n",
       "      <td>5.0</td>\n",
       "      <td>6.0</td>\n",
       "      <td>7.0</td>\n",
       "      <td>25.0</td>\n",
       "      <td>26.0</td>\n",
       "      <td>27.0</td>\n",
       "      <td>28.0</td>\n",
       "    </tr>\n",
       "    <tr>\n",
       "      <th>3</th>\n",
       "      <td>8.0</td>\n",
       "      <td>9.0</td>\n",
       "      <td>10.0</td>\n",
       "      <td>11.0</td>\n",
       "      <td>29.0</td>\n",
       "      <td>30.0</td>\n",
       "      <td>31.0</td>\n",
       "      <td>32.0</td>\n",
       "    </tr>\n",
       "    <tr>\n",
       "      <th>4</th>\n",
       "      <td>12.0</td>\n",
       "      <td>13.0</td>\n",
       "      <td>14.0</td>\n",
       "      <td>15.0</td>\n",
       "      <td>NaN</td>\n",
       "      <td>NaN</td>\n",
       "      <td>NaN</td>\n",
       "      <td>NaN</td>\n",
       "    </tr>\n",
       "  </tbody>\n",
       "</table>\n",
       "</div>"
      ],
      "text/plain": [
       "      A     B     C     D     A     B     C     D\n",
       "0   NaN   NaN   NaN   NaN  17.0  18.0  19.0  20.0\n",
       "1   0.0   1.0   2.0   3.0  21.0  22.0  23.0  24.0\n",
       "2   4.0   5.0   6.0   7.0  25.0  26.0  27.0  28.0\n",
       "3   8.0   9.0  10.0  11.0  29.0  30.0  31.0  32.0\n",
       "4  12.0  13.0  14.0  15.0   NaN   NaN   NaN   NaN"
      ]
     },
     "execution_count": 13,
     "metadata": {},
     "output_type": "execute_result"
    }
   ],
   "source": [
    "data3 = pd.concat([df1,df2],axis = 'columns',join = 'outer')\n",
    "data3"
   ]
  },
  {
   "cell_type": "code",
   "execution_count": 14,
   "id": "17966527",
   "metadata": {},
   "outputs": [
    {
     "data": {
      "text/html": [
       "<div>\n",
       "<style scoped>\n",
       "    .dataframe tbody tr th:only-of-type {\n",
       "        vertical-align: middle;\n",
       "    }\n",
       "\n",
       "    .dataframe tbody tr th {\n",
       "        vertical-align: top;\n",
       "    }\n",
       "\n",
       "    .dataframe thead th {\n",
       "        text-align: right;\n",
       "    }\n",
       "</style>\n",
       "<table border=\"1\" class=\"dataframe\">\n",
       "  <thead>\n",
       "    <tr style=\"text-align: right;\">\n",
       "      <th></th>\n",
       "      <th>series</th>\n",
       "      <th>manufacture</th>\n",
       "      <th>cartype</th>\n",
       "      <th>brand</th>\n",
       "      <th>carclass</th>\n",
       "      <th>carlevel</th>\n",
       "      <th>carprice</th>\n",
       "      <th>stat_month</th>\n",
       "      <th>quantity</th>\n",
       "      <th>revenue</th>\n",
       "      <th>profit</th>\n",
       "    </tr>\n",
       "  </thead>\n",
       "  <tbody>\n",
       "    <tr>\n",
       "      <th>0</th>\n",
       "      <td>德系</td>\n",
       "      <td>北京奔驰</td>\n",
       "      <td>SUV</td>\n",
       "      <td>奔驰</td>\n",
       "      <td>奔驰GLA</td>\n",
       "      <td>紧凑</td>\n",
       "      <td>33</td>\n",
       "      <td>202001</td>\n",
       "      <td>8002</td>\n",
       "      <td>264066</td>\n",
       "      <td>60735.20</td>\n",
       "    </tr>\n",
       "    <tr>\n",
       "      <th>1</th>\n",
       "      <td>德系</td>\n",
       "      <td>北京奔驰</td>\n",
       "      <td>SUV</td>\n",
       "      <td>奔驰</td>\n",
       "      <td>奔驰GLC</td>\n",
       "      <td>中型</td>\n",
       "      <td>49</td>\n",
       "      <td>202001</td>\n",
       "      <td>10535</td>\n",
       "      <td>516215</td>\n",
       "      <td>92918.70</td>\n",
       "    </tr>\n",
       "    <tr>\n",
       "      <th>2</th>\n",
       "      <td>德系</td>\n",
       "      <td>北京奔驰</td>\n",
       "      <td>轿车</td>\n",
       "      <td>奔驰</td>\n",
       "      <td>奔驰C级</td>\n",
       "      <td>中型</td>\n",
       "      <td>41</td>\n",
       "      <td>202001</td>\n",
       "      <td>13087</td>\n",
       "      <td>536567</td>\n",
       "      <td>144873.00</td>\n",
       "    </tr>\n",
       "    <tr>\n",
       "      <th>3</th>\n",
       "      <td>德系</td>\n",
       "      <td>北京奔驰</td>\n",
       "      <td>轿车</td>\n",
       "      <td>奔驰</td>\n",
       "      <td>奔驰E级</td>\n",
       "      <td>中大型</td>\n",
       "      <td>53</td>\n",
       "      <td>202001</td>\n",
       "      <td>9133</td>\n",
       "      <td>484049</td>\n",
       "      <td>91969.30</td>\n",
       "    </tr>\n",
       "    <tr>\n",
       "      <th>4</th>\n",
       "      <td>德系</td>\n",
       "      <td>华晨宝马</td>\n",
       "      <td>SUV</td>\n",
       "      <td>宝马</td>\n",
       "      <td>宝马X1</td>\n",
       "      <td>紧凑</td>\n",
       "      <td>36</td>\n",
       "      <td>202001</td>\n",
       "      <td>6823</td>\n",
       "      <td>245628</td>\n",
       "      <td>58950.70</td>\n",
       "    </tr>\n",
       "    <tr>\n",
       "      <th>...</th>\n",
       "      <td>...</td>\n",
       "      <td>...</td>\n",
       "      <td>...</td>\n",
       "      <td>...</td>\n",
       "      <td>...</td>\n",
       "      <td>...</td>\n",
       "      <td>...</td>\n",
       "      <td>...</td>\n",
       "      <td>...</td>\n",
       "      <td>...</td>\n",
       "      <td>...</td>\n",
       "    </tr>\n",
       "    <tr>\n",
       "      <th>1862</th>\n",
       "      <td>自主</td>\n",
       "      <td>长城汽车</td>\n",
       "      <td>SUV</td>\n",
       "      <td>哈弗</td>\n",
       "      <td>哈弗H2</td>\n",
       "      <td>小型</td>\n",
       "      <td>10</td>\n",
       "      <td>201901</td>\n",
       "      <td>17268</td>\n",
       "      <td>172680</td>\n",
       "      <td>17268.00</td>\n",
       "    </tr>\n",
       "    <tr>\n",
       "      <th>1863</th>\n",
       "      <td>自主</td>\n",
       "      <td>长城汽车</td>\n",
       "      <td>SUV</td>\n",
       "      <td>哈弗</td>\n",
       "      <td>哈弗H5</td>\n",
       "      <td>紧凑</td>\n",
       "      <td>13</td>\n",
       "      <td>201901</td>\n",
       "      <td>2298</td>\n",
       "      <td>29874</td>\n",
       "      <td>5676.06</td>\n",
       "    </tr>\n",
       "    <tr>\n",
       "      <th>1864</th>\n",
       "      <td>自主</td>\n",
       "      <td>长城汽车</td>\n",
       "      <td>SUV</td>\n",
       "      <td>哈弗</td>\n",
       "      <td>哈弗H6</td>\n",
       "      <td>紧凑</td>\n",
       "      <td>13</td>\n",
       "      <td>201901</td>\n",
       "      <td>42188</td>\n",
       "      <td>548444</td>\n",
       "      <td>98719.90</td>\n",
       "    </tr>\n",
       "    <tr>\n",
       "      <th>1865</th>\n",
       "      <td>自主</td>\n",
       "      <td>长城汽车</td>\n",
       "      <td>SUV</td>\n",
       "      <td>哈弗</td>\n",
       "      <td>哈弗H8</td>\n",
       "      <td>中大型</td>\n",
       "      <td>19</td>\n",
       "      <td>201901</td>\n",
       "      <td>1020</td>\n",
       "      <td>19380</td>\n",
       "      <td>4845.00</td>\n",
       "    </tr>\n",
       "    <tr>\n",
       "      <th>1866</th>\n",
       "      <td>自主</td>\n",
       "      <td>长城汽车</td>\n",
       "      <td>SUV</td>\n",
       "      <td>哈弗</td>\n",
       "      <td>哈弗H9</td>\n",
       "      <td>中大型</td>\n",
       "      <td>24</td>\n",
       "      <td>201901</td>\n",
       "      <td>928</td>\n",
       "      <td>22272</td>\n",
       "      <td>2895.36</td>\n",
       "    </tr>\n",
       "  </tbody>\n",
       "</table>\n",
       "<p>1867 rows × 11 columns</p>\n",
       "</div>"
      ],
      "text/plain": [
       "     series manufacture cartype brand carclass carlevel  carprice  stat_month  \\\n",
       "0        德系        北京奔驰     SUV    奔驰    奔驰GLA       紧凑        33      202001   \n",
       "1        德系        北京奔驰     SUV    奔驰    奔驰GLC       中型        49      202001   \n",
       "2        德系        北京奔驰      轿车    奔驰     奔驰C级       中型        41      202001   \n",
       "3        德系        北京奔驰      轿车    奔驰     奔驰E级      中大型        53      202001   \n",
       "4        德系        华晨宝马     SUV    宝马     宝马X1       紧凑        36      202001   \n",
       "...     ...         ...     ...   ...      ...      ...       ...         ...   \n",
       "1862     自主        长城汽车     SUV    哈弗     哈弗H2       小型        10      201901   \n",
       "1863     自主        长城汽车     SUV    哈弗     哈弗H5       紧凑        13      201901   \n",
       "1864     自主        长城汽车     SUV    哈弗     哈弗H6       紧凑        13      201901   \n",
       "1865     自主        长城汽车     SUV    哈弗     哈弗H8      中大型        19      201901   \n",
       "1866     自主        长城汽车     SUV    哈弗     哈弗H9      中大型        24      201901   \n",
       "\n",
       "      quantity  revenue     profit  \n",
       "0         8002   264066   60735.20  \n",
       "1        10535   516215   92918.70  \n",
       "2        13087   536567  144873.00  \n",
       "3         9133   484049   91969.30  \n",
       "4         6823   245628   58950.70  \n",
       "...        ...      ...        ...  \n",
       "1862     17268   172680   17268.00  \n",
       "1863      2298    29874    5676.06  \n",
       "1864     42188   548444   98719.90  \n",
       "1865      1020    19380    4845.00  \n",
       "1866       928    22272    2895.36  \n",
       "\n",
       "[1867 rows x 11 columns]"
      ]
     },
     "execution_count": 14,
     "metadata": {},
     "output_type": "execute_result"
    }
   ],
   "source": [
    "df3 = pd.read_excel('./data/saleinfo_month.xls')\n",
    "df3"
   ]
  },
  {
   "cell_type": "code",
   "execution_count": 15,
   "id": "06911bc4",
   "metadata": {},
   "outputs": [],
   "source": [
    "# 针对于不同车系把carprice通过transform('mean')转换成均值"
   ]
  },
  {
   "cell_type": "code",
   "execution_count": 16,
   "id": "78591270",
   "metadata": {},
   "outputs": [],
   "source": [
    "df3['avg_price'] = df3.groupby('series')['carprice'].transform('mean')"
   ]
  },
  {
   "cell_type": "code",
   "execution_count": 17,
   "id": "571b9d8a",
   "metadata": {},
   "outputs": [
    {
     "data": {
      "text/html": [
       "<div>\n",
       "<style scoped>\n",
       "    .dataframe tbody tr th:only-of-type {\n",
       "        vertical-align: middle;\n",
       "    }\n",
       "\n",
       "    .dataframe tbody tr th {\n",
       "        vertical-align: top;\n",
       "    }\n",
       "\n",
       "    .dataframe thead th {\n",
       "        text-align: right;\n",
       "    }\n",
       "</style>\n",
       "<table border=\"1\" class=\"dataframe\">\n",
       "  <thead>\n",
       "    <tr style=\"text-align: right;\">\n",
       "      <th></th>\n",
       "      <th>series</th>\n",
       "      <th>manufacture</th>\n",
       "      <th>cartype</th>\n",
       "      <th>brand</th>\n",
       "      <th>carclass</th>\n",
       "      <th>carlevel</th>\n",
       "      <th>carprice</th>\n",
       "      <th>stat_month</th>\n",
       "      <th>quantity</th>\n",
       "      <th>revenue</th>\n",
       "      <th>profit</th>\n",
       "      <th>avg_price</th>\n",
       "    </tr>\n",
       "  </thead>\n",
       "  <tbody>\n",
       "    <tr>\n",
       "      <th>0</th>\n",
       "      <td>德系</td>\n",
       "      <td>北京奔驰</td>\n",
       "      <td>SUV</td>\n",
       "      <td>奔驰</td>\n",
       "      <td>奔驰GLA</td>\n",
       "      <td>紧凑</td>\n",
       "      <td>33</td>\n",
       "      <td>202001</td>\n",
       "      <td>8002</td>\n",
       "      <td>264066</td>\n",
       "      <td>60735.20</td>\n",
       "      <td>28.455056</td>\n",
       "    </tr>\n",
       "    <tr>\n",
       "      <th>1</th>\n",
       "      <td>德系</td>\n",
       "      <td>北京奔驰</td>\n",
       "      <td>SUV</td>\n",
       "      <td>奔驰</td>\n",
       "      <td>奔驰GLC</td>\n",
       "      <td>中型</td>\n",
       "      <td>49</td>\n",
       "      <td>202001</td>\n",
       "      <td>10535</td>\n",
       "      <td>516215</td>\n",
       "      <td>92918.70</td>\n",
       "      <td>28.455056</td>\n",
       "    </tr>\n",
       "    <tr>\n",
       "      <th>2</th>\n",
       "      <td>德系</td>\n",
       "      <td>北京奔驰</td>\n",
       "      <td>轿车</td>\n",
       "      <td>奔驰</td>\n",
       "      <td>奔驰C级</td>\n",
       "      <td>中型</td>\n",
       "      <td>41</td>\n",
       "      <td>202001</td>\n",
       "      <td>13087</td>\n",
       "      <td>536567</td>\n",
       "      <td>144873.00</td>\n",
       "      <td>28.455056</td>\n",
       "    </tr>\n",
       "    <tr>\n",
       "      <th>3</th>\n",
       "      <td>德系</td>\n",
       "      <td>北京奔驰</td>\n",
       "      <td>轿车</td>\n",
       "      <td>奔驰</td>\n",
       "      <td>奔驰E级</td>\n",
       "      <td>中大型</td>\n",
       "      <td>53</td>\n",
       "      <td>202001</td>\n",
       "      <td>9133</td>\n",
       "      <td>484049</td>\n",
       "      <td>91969.30</td>\n",
       "      <td>28.455056</td>\n",
       "    </tr>\n",
       "    <tr>\n",
       "      <th>4</th>\n",
       "      <td>德系</td>\n",
       "      <td>华晨宝马</td>\n",
       "      <td>SUV</td>\n",
       "      <td>宝马</td>\n",
       "      <td>宝马X1</td>\n",
       "      <td>紧凑</td>\n",
       "      <td>36</td>\n",
       "      <td>202001</td>\n",
       "      <td>6823</td>\n",
       "      <td>245628</td>\n",
       "      <td>58950.70</td>\n",
       "      <td>28.455056</td>\n",
       "    </tr>\n",
       "    <tr>\n",
       "      <th>...</th>\n",
       "      <td>...</td>\n",
       "      <td>...</td>\n",
       "      <td>...</td>\n",
       "      <td>...</td>\n",
       "      <td>...</td>\n",
       "      <td>...</td>\n",
       "      <td>...</td>\n",
       "      <td>...</td>\n",
       "      <td>...</td>\n",
       "      <td>...</td>\n",
       "      <td>...</td>\n",
       "      <td>...</td>\n",
       "    </tr>\n",
       "    <tr>\n",
       "      <th>1862</th>\n",
       "      <td>自主</td>\n",
       "      <td>长城汽车</td>\n",
       "      <td>SUV</td>\n",
       "      <td>哈弗</td>\n",
       "      <td>哈弗H2</td>\n",
       "      <td>小型</td>\n",
       "      <td>10</td>\n",
       "      <td>201901</td>\n",
       "      <td>17268</td>\n",
       "      <td>172680</td>\n",
       "      <td>17268.00</td>\n",
       "      <td>10.207627</td>\n",
       "    </tr>\n",
       "    <tr>\n",
       "      <th>1863</th>\n",
       "      <td>自主</td>\n",
       "      <td>长城汽车</td>\n",
       "      <td>SUV</td>\n",
       "      <td>哈弗</td>\n",
       "      <td>哈弗H5</td>\n",
       "      <td>紧凑</td>\n",
       "      <td>13</td>\n",
       "      <td>201901</td>\n",
       "      <td>2298</td>\n",
       "      <td>29874</td>\n",
       "      <td>5676.06</td>\n",
       "      <td>10.207627</td>\n",
       "    </tr>\n",
       "    <tr>\n",
       "      <th>1864</th>\n",
       "      <td>自主</td>\n",
       "      <td>长城汽车</td>\n",
       "      <td>SUV</td>\n",
       "      <td>哈弗</td>\n",
       "      <td>哈弗H6</td>\n",
       "      <td>紧凑</td>\n",
       "      <td>13</td>\n",
       "      <td>201901</td>\n",
       "      <td>42188</td>\n",
       "      <td>548444</td>\n",
       "      <td>98719.90</td>\n",
       "      <td>10.207627</td>\n",
       "    </tr>\n",
       "    <tr>\n",
       "      <th>1865</th>\n",
       "      <td>自主</td>\n",
       "      <td>长城汽车</td>\n",
       "      <td>SUV</td>\n",
       "      <td>哈弗</td>\n",
       "      <td>哈弗H8</td>\n",
       "      <td>中大型</td>\n",
       "      <td>19</td>\n",
       "      <td>201901</td>\n",
       "      <td>1020</td>\n",
       "      <td>19380</td>\n",
       "      <td>4845.00</td>\n",
       "      <td>10.207627</td>\n",
       "    </tr>\n",
       "    <tr>\n",
       "      <th>1866</th>\n",
       "      <td>自主</td>\n",
       "      <td>长城汽车</td>\n",
       "      <td>SUV</td>\n",
       "      <td>哈弗</td>\n",
       "      <td>哈弗H9</td>\n",
       "      <td>中大型</td>\n",
       "      <td>24</td>\n",
       "      <td>201901</td>\n",
       "      <td>928</td>\n",
       "      <td>22272</td>\n",
       "      <td>2895.36</td>\n",
       "      <td>10.207627</td>\n",
       "    </tr>\n",
       "  </tbody>\n",
       "</table>\n",
       "<p>1867 rows × 12 columns</p>\n",
       "</div>"
      ],
      "text/plain": [
       "     series manufacture cartype brand carclass carlevel  carprice  stat_month  \\\n",
       "0        德系        北京奔驰     SUV    奔驰    奔驰GLA       紧凑        33      202001   \n",
       "1        德系        北京奔驰     SUV    奔驰    奔驰GLC       中型        49      202001   \n",
       "2        德系        北京奔驰      轿车    奔驰     奔驰C级       中型        41      202001   \n",
       "3        德系        北京奔驰      轿车    奔驰     奔驰E级      中大型        53      202001   \n",
       "4        德系        华晨宝马     SUV    宝马     宝马X1       紧凑        36      202001   \n",
       "...     ...         ...     ...   ...      ...      ...       ...         ...   \n",
       "1862     自主        长城汽车     SUV    哈弗     哈弗H2       小型        10      201901   \n",
       "1863     自主        长城汽车     SUV    哈弗     哈弗H5       紧凑        13      201901   \n",
       "1864     自主        长城汽车     SUV    哈弗     哈弗H6       紧凑        13      201901   \n",
       "1865     自主        长城汽车     SUV    哈弗     哈弗H8      中大型        19      201901   \n",
       "1866     自主        长城汽车     SUV    哈弗     哈弗H9      中大型        24      201901   \n",
       "\n",
       "      quantity  revenue     profit  avg_price  \n",
       "0         8002   264066   60735.20  28.455056  \n",
       "1        10535   516215   92918.70  28.455056  \n",
       "2        13087   536567  144873.00  28.455056  \n",
       "3         9133   484049   91969.30  28.455056  \n",
       "4         6823   245628   58950.70  28.455056  \n",
       "...        ...      ...        ...        ...  \n",
       "1862     17268   172680   17268.00  10.207627  \n",
       "1863      2298    29874    5676.06  10.207627  \n",
       "1864     42188   548444   98719.90  10.207627  \n",
       "1865      1020    19380    4845.00  10.207627  \n",
       "1866       928    22272    2895.36  10.207627  \n",
       "\n",
       "[1867 rows x 12 columns]"
      ]
     },
     "execution_count": 17,
     "metadata": {},
     "output_type": "execute_result"
    }
   ],
   "source": [
    "df3"
   ]
  },
  {
   "cell_type": "markdown",
   "id": "c9faf608",
   "metadata": {},
   "source": [
    "# 折线图"
   ]
  },
  {
   "cell_type": "code",
   "execution_count": 18,
   "id": "89edad23",
   "metadata": {},
   "outputs": [],
   "source": [
    "import matplotlib.pyplot as plt"
   ]
  },
  {
   "cell_type": "code",
   "execution_count": 19,
   "id": "538d3584",
   "metadata": {},
   "outputs": [
    {
     "data": {
      "image/png": "[encoded data removed]",
      "text/plain": [
       "<Figure size 432x288 with 1 Axes>"
      ]
     },
     "metadata": {
      "needs_background": "light"
     },
     "output_type": "display_data"
    }
   ],
   "source": [
    "x =[1,5,8]\n",
    "y =[5,7,9]\n",
    "plt.plot(x,y)\n",
    "plt.show() # 在Anaconda中可写可不写，在有些环境内不支持可以加上"
   ]
  },
  {
   "cell_type": "code",
   "execution_count": 20,
   "id": "a4702dad",
   "metadata": {},
   "outputs": [],
   "source": [
    "# 不同年月销售额趋势分析"
   ]
  },
  {
   "cell_type": "code",
   "execution_count": 21,
   "id": "4a90c4dd",
   "metadata": {},
   "outputs": [],
   "source": [
    "# 导入pandas matplotlib 读取数据"
   ]
  },
  {
   "cell_type": "code",
   "execution_count": 22,
   "id": "ebe1a588",
   "metadata": {},
   "outputs": [],
   "source": [
    "import pandas as pd\n",
    "import matplotlib.pyplot as plt"
   ]
  },
  {
   "cell_type": "code",
   "execution_count": 23,
   "id": "51a35e5e",
   "metadata": {},
   "outputs": [
    {
     "data": {
      "text/html": [
       "<div>\n",
       "<style scoped>\n",
       "    .dataframe tbody tr th:only-of-type {\n",
       "        vertical-align: middle;\n",
       "    }\n",
       "\n",
       "    .dataframe tbody tr th {\n",
       "        vertical-align: top;\n",
       "    }\n",
       "\n",
       "    .dataframe thead th {\n",
       "        text-align: right;\n",
       "    }\n",
       "</style>\n",
       "<table border=\"1\" class=\"dataframe\">\n",
       "  <thead>\n",
       "    <tr style=\"text-align: right;\">\n",
       "      <th></th>\n",
       "      <th>序号</th>\n",
       "      <th>user_id</th>\n",
       "      <th>user_name</th>\n",
       "      <th>chann_id</th>\n",
       "      <th>city_id</th>\n",
       "      <th>system</th>\n",
       "      <th>age</th>\n",
       "      <th>phonenum</th>\n",
       "      <th>sex</th>\n",
       "      <th>创建时间</th>\n",
       "      <th>platform</th>\n",
       "      <th>国家</th>\n",
       "      <th>地区</th>\n",
       "      <th>省份</th>\n",
       "      <th>city</th>\n",
       "      <th>chann_name</th>\n",
       "      <th>订单量</th>\n",
       "      <th>销量</th>\n",
       "      <th>消费金额</th>\n",
       "      <th>实付金额</th>\n",
       "    </tr>\n",
       "  </thead>\n",
       "  <tbody>\n",
       "    <tr>\n",
       "      <th>0</th>\n",
       "      <td>1</td>\n",
       "      <td>10013788</td>\n",
       "      <td>敖大戴</td>\n",
       "      <td>guide_01</td>\n",
       "      <td>city0138</td>\n",
       "      <td>IOS</td>\n",
       "      <td>46</td>\n",
       "      <td>152****6601</td>\n",
       "      <td>女</td>\n",
       "      <td>2017-03-25</td>\n",
       "      <td>APP</td>\n",
       "      <td>中国</td>\n",
       "      <td>华北</td>\n",
       "      <td>河北</td>\n",
       "      <td>南宫</td>\n",
       "      <td>hao123</td>\n",
       "      <td>6</td>\n",
       "      <td>28</td>\n",
       "      <td>13014.6</td>\n",
       "      <td>12614.6</td>\n",
       "    </tr>\n",
       "    <tr>\n",
       "      <th>1</th>\n",
       "      <td>2</td>\n",
       "      <td>10048735</td>\n",
       "      <td>浦葛卫之翼环城店一一柯晓闫</td>\n",
       "      <td>union_03</td>\n",
       "      <td>city0548</td>\n",
       "      <td>IOS</td>\n",
       "      <td>60</td>\n",
       "      <td>171****1663</td>\n",
       "      <td>女</td>\n",
       "      <td>2017-10-25</td>\n",
       "      <td>APP</td>\n",
       "      <td>中国</td>\n",
       "      <td>中南</td>\n",
       "      <td>湖南</td>\n",
       "      <td>耒阳</td>\n",
       "      <td>百度网盟</td>\n",
       "      <td>4</td>\n",
       "      <td>36</td>\n",
       "      <td>28839.2</td>\n",
       "      <td>26979.2</td>\n",
       "    </tr>\n",
       "    <tr>\n",
       "      <th>2</th>\n",
       "      <td>3</td>\n",
       "      <td>10062827</td>\n",
       "      <td>亡命天涯不如早点回卜。</td>\n",
       "      <td>search_02</td>\n",
       "      <td>city0061</td>\n",
       "      <td>Android</td>\n",
       "      <td>54</td>\n",
       "      <td>180****9153</td>\n",
       "      <td>女</td>\n",
       "      <td>2018-01-18</td>\n",
       "      <td>APP</td>\n",
       "      <td>中国</td>\n",
       "      <td>东北</td>\n",
       "      <td>吉林</td>\n",
       "      <td>辉南</td>\n",
       "      <td>百度联盟</td>\n",
       "      <td>4</td>\n",
       "      <td>16</td>\n",
       "      <td>4294.8</td>\n",
       "      <td>4294.8</td>\n",
       "    </tr>\n",
       "    <tr>\n",
       "      <th>3</th>\n",
       "      <td>4</td>\n",
       "      <td>10066683</td>\n",
       "      <td>闵屈戎</td>\n",
       "      <td>union_01</td>\n",
       "      <td>city0454</td>\n",
       "      <td>IOS</td>\n",
       "      <td>32</td>\n",
       "      <td>133****1258</td>\n",
       "      <td>男</td>\n",
       "      <td>2018-02-10</td>\n",
       "      <td>APP</td>\n",
       "      <td>中国</td>\n",
       "      <td>中南</td>\n",
       "      <td>广东</td>\n",
       "      <td>台城</td>\n",
       "      <td>360网盟</td>\n",
       "      <td>4</td>\n",
       "      <td>19</td>\n",
       "      <td>3552.4</td>\n",
       "      <td>3512.4</td>\n",
       "    </tr>\n",
       "    <tr>\n",
       "      <th>4</th>\n",
       "      <td>5</td>\n",
       "      <td>10294804</td>\n",
       "      <td>姚建平AzQoe545</td>\n",
       "      <td>platform_01</td>\n",
       "      <td>city0133</td>\n",
       "      <td>PC</td>\n",
       "      <td>33</td>\n",
       "      <td>184****3820</td>\n",
       "      <td>女</td>\n",
       "      <td>2019-08-30</td>\n",
       "      <td>PC</td>\n",
       "      <td>中国</td>\n",
       "      <td>华北</td>\n",
       "      <td>河北</td>\n",
       "      <td>邯郸</td>\n",
       "      <td>今日头条</td>\n",
       "      <td>4</td>\n",
       "      <td>12</td>\n",
       "      <td>1582.5</td>\n",
       "      <td>1392.5</td>\n",
       "    </tr>\n",
       "  </tbody>\n",
       "</table>\n",
       "</div>"
      ],
      "text/plain": [
       "   序号   user_id      user_name     chann_id   city_id   system  age  \\\n",
       "0   1  10013788            敖大戴     guide_01  city0138      IOS   46   \n",
       "1   2  10048735  浦葛卫之翼环城店一一柯晓闫     union_03  city0548      IOS   60   \n",
       "2   3  10062827    亡命天涯不如早点回卜。    search_02  city0061  Android   54   \n",
       "3   4  10066683            闵屈戎     union_01  city0454      IOS   32   \n",
       "4   5  10294804    姚建平AzQoe545  platform_01  city0133       PC   33   \n",
       "\n",
       "      phonenum sex       创建时间 platform  国家  地区  省份 city chann_name  订单量  销量  \\\n",
       "0  152****6601   女 2017-03-25      APP  中国  华北  河北   南宫     hao123    6  28   \n",
       "1  171****1663   女 2017-10-25      APP  中国  中南  湖南   耒阳       百度网盟    4  36   \n",
       "2  180****9153   女 2018-01-18      APP  中国  东北  吉林   辉南       百度联盟    4  16   \n",
       "3  133****1258   男 2018-02-10      APP  中国  中南  广东   台城      360网盟    4  19   \n",
       "4  184****3820   女 2019-08-30       PC  中国  华北  河北   邯郸       今日头条    4  12   \n",
       "\n",
       "      消费金额     实付金额  \n",
       "0  13014.6  12614.6  \n",
       "1  28839.2  26979.2  \n",
       "2   4294.8   4294.8  \n",
       "3   3552.4   3512.4  \n",
       "4   1582.5   1392.5  "
      ]
     },
     "execution_count": 23,
     "metadata": {},
     "output_type": "execute_result"
    }
   ],
   "source": [
    "data1 = pd.read_excel('./销售数据.xlsx')\n",
    "# 只显示前5行\n",
    "data1.head()"
   ]
  },
  {
   "cell_type": "code",
   "execution_count": 24,
   "id": "98c8b6b0",
   "metadata": {
    "scrolled": true
   },
   "outputs": [
    {
     "data": {
      "text/plain": [
       "0       2017-03-25\n",
       "1       2017-10-25\n",
       "2       2018-01-18\n",
       "3       2018-02-10\n",
       "4       2019-08-30\n",
       "           ...    \n",
       "60546   2020-01-27\n",
       "60547   2020-01-28\n",
       "60548   2020-01-28\n",
       "60549   2020-01-29\n",
       "60550   2020-01-29\n",
       "Name: 创建时间, Length: 60551, dtype: datetime64[ns]"
      ]
     },
     "execution_count": 24,
     "metadata": {},
     "output_type": "execute_result"
    }
   ],
   "source": [
    "data1['创建时间']"
   ]
  },
  {
   "cell_type": "code",
   "execution_count": 25,
   "id": "a2bf49b7",
   "metadata": {},
   "outputs": [],
   "source": [
    "# 创建年月把‘创建时间‘格式转换成‘年月’格式没有使用pd.to_datetime是因为上面已经显示是datetime64的时间格式了"
   ]
  },
  {
   "cell_type": "code",
   "execution_count": 26,
   "id": "c78c6f33",
   "metadata": {},
   "outputs": [],
   "source": [
    "data1['年月'] = data1['创建时间'].apply(lambda x:x.strftime('%Y-%m'))"
   ]
  },
  {
   "cell_type": "code",
   "execution_count": 27,
   "id": "4bb80e91",
   "metadata": {},
   "outputs": [
    {
     "data": {
      "text/html": [
       "<div>\n",
       "<style scoped>\n",
       "    .dataframe tbody tr th:only-of-type {\n",
       "        vertical-align: middle;\n",
       "    }\n",
       "\n",
       "    .dataframe tbody tr th {\n",
       "        vertical-align: top;\n",
       "    }\n",
       "\n",
       "    .dataframe thead th {\n",
       "        text-align: right;\n",
       "    }\n",
       "</style>\n",
       "<table border=\"1\" class=\"dataframe\">\n",
       "  <thead>\n",
       "    <tr style=\"text-align: right;\">\n",
       "      <th></th>\n",
       "      <th>序号</th>\n",
       "      <th>user_id</th>\n",
       "      <th>user_name</th>\n",
       "      <th>chann_id</th>\n",
       "      <th>city_id</th>\n",
       "      <th>system</th>\n",
       "      <th>age</th>\n",
       "      <th>phonenum</th>\n",
       "      <th>sex</th>\n",
       "      <th>创建时间</th>\n",
       "      <th>...</th>\n",
       "      <th>国家</th>\n",
       "      <th>地区</th>\n",
       "      <th>省份</th>\n",
       "      <th>city</th>\n",
       "      <th>chann_name</th>\n",
       "      <th>订单量</th>\n",
       "      <th>销量</th>\n",
       "      <th>消费金额</th>\n",
       "      <th>实付金额</th>\n",
       "      <th>年月</th>\n",
       "    </tr>\n",
       "  </thead>\n",
       "  <tbody>\n",
       "    <tr>\n",
       "      <th>0</th>\n",
       "      <td>1</td>\n",
       "      <td>10013788</td>\n",
       "      <td>敖大戴</td>\n",
       "      <td>guide_01</td>\n",
       "      <td>city0138</td>\n",
       "      <td>IOS</td>\n",
       "      <td>46</td>\n",
       "      <td>152****6601</td>\n",
       "      <td>女</td>\n",
       "      <td>2017-03-25</td>\n",
       "      <td>...</td>\n",
       "      <td>中国</td>\n",
       "      <td>华北</td>\n",
       "      <td>河北</td>\n",
       "      <td>南宫</td>\n",
       "      <td>hao123</td>\n",
       "      <td>6</td>\n",
       "      <td>28</td>\n",
       "      <td>13014.6</td>\n",
       "      <td>12614.6</td>\n",
       "      <td>2017-03</td>\n",
       "    </tr>\n",
       "    <tr>\n",
       "      <th>1</th>\n",
       "      <td>2</td>\n",
       "      <td>10048735</td>\n",
       "      <td>浦葛卫之翼环城店一一柯晓闫</td>\n",
       "      <td>union_03</td>\n",
       "      <td>city0548</td>\n",
       "      <td>IOS</td>\n",
       "      <td>60</td>\n",
       "      <td>171****1663</td>\n",
       "      <td>女</td>\n",
       "      <td>2017-10-25</td>\n",
       "      <td>...</td>\n",
       "      <td>中国</td>\n",
       "      <td>中南</td>\n",
       "      <td>湖南</td>\n",
       "      <td>耒阳</td>\n",
       "      <td>百度网盟</td>\n",
       "      <td>4</td>\n",
       "      <td>36</td>\n",
       "      <td>28839.2</td>\n",
       "      <td>26979.2</td>\n",
       "      <td>2017-10</td>\n",
       "    </tr>\n",
       "    <tr>\n",
       "      <th>2</th>\n",
       "      <td>3</td>\n",
       "      <td>10062827</td>\n",
       "      <td>亡命天涯不如早点回卜。</td>\n",
       "      <td>search_02</td>\n",
       "      <td>city0061</td>\n",
       "      <td>Android</td>\n",
       "      <td>54</td>\n",
       "      <td>180****9153</td>\n",
       "      <td>女</td>\n",
       "      <td>2018-01-18</td>\n",
       "      <td>...</td>\n",
       "      <td>中国</td>\n",
       "      <td>东北</td>\n",
       "      <td>吉林</td>\n",
       "      <td>辉南</td>\n",
       "      <td>百度联盟</td>\n",
       "      <td>4</td>\n",
       "      <td>16</td>\n",
       "      <td>4294.8</td>\n",
       "      <td>4294.8</td>\n",
       "      <td>2018-01</td>\n",
       "    </tr>\n",
       "    <tr>\n",
       "      <th>3</th>\n",
       "      <td>4</td>\n",
       "      <td>10066683</td>\n",
       "      <td>闵屈戎</td>\n",
       "      <td>union_01</td>\n",
       "      <td>city0454</td>\n",
       "      <td>IOS</td>\n",
       "      <td>32</td>\n",
       "      <td>133****1258</td>\n",
       "      <td>男</td>\n",
       "      <td>2018-02-10</td>\n",
       "      <td>...</td>\n",
       "      <td>中国</td>\n",
       "      <td>中南</td>\n",
       "      <td>广东</td>\n",
       "      <td>台城</td>\n",
       "      <td>360网盟</td>\n",
       "      <td>4</td>\n",
       "      <td>19</td>\n",
       "      <td>3552.4</td>\n",
       "      <td>3512.4</td>\n",
       "      <td>2018-02</td>\n",
       "    </tr>\n",
       "    <tr>\n",
       "      <th>4</th>\n",
       "      <td>5</td>\n",
       "      <td>10294804</td>\n",
       "      <td>姚建平AzQoe545</td>\n",
       "      <td>platform_01</td>\n",
       "      <td>city0133</td>\n",
       "      <td>PC</td>\n",
       "      <td>33</td>\n",
       "      <td>184****3820</td>\n",
       "      <td>女</td>\n",
       "      <td>2019-08-30</td>\n",
       "      <td>...</td>\n",
       "      <td>中国</td>\n",
       "      <td>华北</td>\n",
       "      <td>河北</td>\n",
       "      <td>邯郸</td>\n",
       "      <td>今日头条</td>\n",
       "      <td>4</td>\n",
       "      <td>12</td>\n",
       "      <td>1582.5</td>\n",
       "      <td>1392.5</td>\n",
       "      <td>2019-08</td>\n",
       "    </tr>\n",
       "    <tr>\n",
       "      <th>...</th>\n",
       "      <td>...</td>\n",
       "      <td>...</td>\n",
       "      <td>...</td>\n",
       "      <td>...</td>\n",
       "      <td>...</td>\n",
       "      <td>...</td>\n",
       "      <td>...</td>\n",
       "      <td>...</td>\n",
       "      <td>...</td>\n",
       "      <td>...</td>\n",
       "      <td>...</td>\n",
       "      <td>...</td>\n",
       "      <td>...</td>\n",
       "      <td>...</td>\n",
       "      <td>...</td>\n",
       "      <td>...</td>\n",
       "      <td>...</td>\n",
       "      <td>...</td>\n",
       "      <td>...</td>\n",
       "      <td>...</td>\n",
       "      <td>...</td>\n",
       "    </tr>\n",
       "    <tr>\n",
       "      <th>60546</th>\n",
       "      <td>60547</td>\n",
       "      <td>10414342</td>\n",
       "      <td>吴俊E9667</td>\n",
       "      <td>guide_02</td>\n",
       "      <td>city0089</td>\n",
       "      <td>PC</td>\n",
       "      <td>23</td>\n",
       "      <td>175****8672</td>\n",
       "      <td>男</td>\n",
       "      <td>2020-01-27</td>\n",
       "      <td>...</td>\n",
       "      <td>中国</td>\n",
       "      <td>东北</td>\n",
       "      <td>吉林</td>\n",
       "      <td>郑家屯</td>\n",
       "      <td>360导航</td>\n",
       "      <td>0</td>\n",
       "      <td>0</td>\n",
       "      <td>0.0</td>\n",
       "      <td>0.0</td>\n",
       "      <td>2020-01</td>\n",
       "    </tr>\n",
       "    <tr>\n",
       "      <th>60547</th>\n",
       "      <td>60548</td>\n",
       "      <td>10414602</td>\n",
       "      <td>李明tEVm2570</td>\n",
       "      <td>search_02</td>\n",
       "      <td>city0086</td>\n",
       "      <td>Others</td>\n",
       "      <td>38</td>\n",
       "      <td>187****8829</td>\n",
       "      <td>女</td>\n",
       "      <td>2020-01-28</td>\n",
       "      <td>...</td>\n",
       "      <td>中国</td>\n",
       "      <td>东北</td>\n",
       "      <td>吉林</td>\n",
       "      <td>榆树</td>\n",
       "      <td>百度联盟</td>\n",
       "      <td>0</td>\n",
       "      <td>0</td>\n",
       "      <td>0.0</td>\n",
       "      <td>0.0</td>\n",
       "      <td>2020-01</td>\n",
       "    </tr>\n",
       "    <tr>\n",
       "      <th>60548</th>\n",
       "      <td>60549</td>\n",
       "      <td>10414637</td>\n",
       "      <td>张建国EKEN2401</td>\n",
       "      <td>search_03</td>\n",
       "      <td>city0269</td>\n",
       "      <td>Others</td>\n",
       "      <td>35</td>\n",
       "      <td>177****5915</td>\n",
       "      <td>女</td>\n",
       "      <td>2020-01-28</td>\n",
       "      <td>...</td>\n",
       "      <td>中国</td>\n",
       "      <td>华东</td>\n",
       "      <td>山东</td>\n",
       "      <td>菏泽</td>\n",
       "      <td>百度橱窗</td>\n",
       "      <td>0</td>\n",
       "      <td>0</td>\n",
       "      <td>0.0</td>\n",
       "      <td>0.0</td>\n",
       "      <td>2020-01</td>\n",
       "    </tr>\n",
       "    <tr>\n",
       "      <th>60549</th>\n",
       "      <td>60550</td>\n",
       "      <td>10415023</td>\n",
       "      <td>王成fRlU5072</td>\n",
       "      <td>guide_02</td>\n",
       "      <td>city0044</td>\n",
       "      <td>IOS</td>\n",
       "      <td>23</td>\n",
       "      <td>187****0047</td>\n",
       "      <td>女</td>\n",
       "      <td>2020-01-29</td>\n",
       "      <td>...</td>\n",
       "      <td>中国</td>\n",
       "      <td>东北</td>\n",
       "      <td>黑龙江</td>\n",
       "      <td>铁力</td>\n",
       "      <td>360导航</td>\n",
       "      <td>0</td>\n",
       "      <td>0</td>\n",
       "      <td>0.0</td>\n",
       "      <td>0.0</td>\n",
       "      <td>2020-01</td>\n",
       "    </tr>\n",
       "    <tr>\n",
       "      <th>60550</th>\n",
       "      <td>60551</td>\n",
       "      <td>10415138</td>\n",
       "      <td>白淑珍utLA6423</td>\n",
       "      <td>platform_02</td>\n",
       "      <td>city0077</td>\n",
       "      <td>IOS</td>\n",
       "      <td>27</td>\n",
       "      <td>134****2937</td>\n",
       "      <td>女</td>\n",
       "      <td>2020-01-29</td>\n",
       "      <td>...</td>\n",
       "      <td>中国</td>\n",
       "      <td>东北</td>\n",
       "      <td>吉林</td>\n",
       "      <td>舒兰</td>\n",
       "      <td>网易有道</td>\n",
       "      <td>0</td>\n",
       "      <td>0</td>\n",
       "      <td>0.0</td>\n",
       "      <td>0.0</td>\n",
       "      <td>2020-01</td>\n",
       "    </tr>\n",
       "  </tbody>\n",
       "</table>\n",
       "<p>60551 rows × 21 columns</p>\n",
       "</div>"
      ],
      "text/plain": [
       "          序号   user_id      user_name     chann_id   city_id   system  age  \\\n",
       "0          1  10013788            敖大戴     guide_01  city0138      IOS   46   \n",
       "1          2  10048735  浦葛卫之翼环城店一一柯晓闫     union_03  city0548      IOS   60   \n",
       "2          3  10062827    亡命天涯不如早点回卜。    search_02  city0061  Android   54   \n",
       "3          4  10066683            闵屈戎     union_01  city0454      IOS   32   \n",
       "4          5  10294804    姚建平AzQoe545  platform_01  city0133       PC   33   \n",
       "...      ...       ...            ...          ...       ...      ...  ...   \n",
       "60546  60547  10414342        吴俊E9667     guide_02  city0089       PC   23   \n",
       "60547  60548  10414602     李明tEVm2570    search_02  city0086   Others   38   \n",
       "60548  60549  10414637    张建国EKEN2401    search_03  city0269   Others   35   \n",
       "60549  60550  10415023     王成fRlU5072     guide_02  city0044      IOS   23   \n",
       "60550  60551  10415138    白淑珍utLA6423  platform_02  city0077      IOS   27   \n",
       "\n",
       "          phonenum sex       创建时间  ...  国家  地区   省份 city chann_name 订单量  销量  \\\n",
       "0      152****6601   女 2017-03-25  ...  中国  华北   河北   南宫     hao123   6  28   \n",
       "1      171****1663   女 2017-10-25  ...  中国  中南   湖南   耒阳       百度网盟   4  36   \n",
       "2      180****9153   女 2018-01-18  ...  中国  东北   吉林   辉南       百度联盟   4  16   \n",
       "3      133****1258   男 2018-02-10  ...  中国  中南   广东   台城      360网盟   4  19   \n",
       "4      184****3820   女 2019-08-30  ...  中国  华北   河北   邯郸       今日头条   4  12   \n",
       "...            ...  ..        ...  ...  ..  ..  ...  ...        ...  ..  ..   \n",
       "60546  175****8672   男 2020-01-27  ...  中国  东北   吉林  郑家屯      360导航   0   0   \n",
       "60547  187****8829   女 2020-01-28  ...  中国  东北   吉林   榆树       百度联盟   0   0   \n",
       "60548  177****5915   女 2020-01-28  ...  中国  华东   山东   菏泽       百度橱窗   0   0   \n",
       "60549  187****0047   女 2020-01-29  ...  中国  东北  黑龙江   铁力      360导航   0   0   \n",
       "60550  134****2937   女 2020-01-29  ...  中国  东北   吉林   舒兰       网易有道   0   0   \n",
       "\n",
       "          消费金额     实付金额       年月  \n",
       "0      13014.6  12614.6  2017-03  \n",
       "1      28839.2  26979.2  2017-10  \n",
       "2       4294.8   4294.8  2018-01  \n",
       "3       3552.4   3512.4  2018-02  \n",
       "4       1582.5   1392.5  2019-08  \n",
       "...        ...      ...      ...  \n",
       "60546      0.0      0.0  2020-01  \n",
       "60547      0.0      0.0  2020-01  \n",
       "60548      0.0      0.0  2020-01  \n",
       "60549      0.0      0.0  2020-01  \n",
       "60550      0.0      0.0  2020-01  \n",
       "\n",
       "[60551 rows x 21 columns]"
      ]
     },
     "execution_count": 27,
     "metadata": {},
     "output_type": "execute_result"
    }
   ],
   "source": [
    "data1"
   ]
  },
  {
   "cell_type": "code",
   "execution_count": 28,
   "id": "81790dbd",
   "metadata": {},
   "outputs": [],
   "source": [
    "# 分组聚合，groupby以什么分组的分组之后这个就会变成索引"
   ]
  },
  {
   "cell_type": "code",
   "execution_count": 29,
   "id": "0eb1cc67",
   "metadata": {},
   "outputs": [],
   "source": [
    "data2 = data1.groupby('年月').agg({'实付金额':'sum'})"
   ]
  },
  {
   "cell_type": "code",
   "execution_count": 30,
   "id": "6cda3b22",
   "metadata": {},
   "outputs": [
    {
     "data": {
      "text/html": [
       "<div>\n",
       "<style scoped>\n",
       "    .dataframe tbody tr th:only-of-type {\n",
       "        vertical-align: middle;\n",
       "    }\n",
       "\n",
       "    .dataframe tbody tr th {\n",
       "        vertical-align: top;\n",
       "    }\n",
       "\n",
       "    .dataframe thead th {\n",
       "        text-align: right;\n",
       "    }\n",
       "</style>\n",
       "<table border=\"1\" class=\"dataframe\">\n",
       "  <thead>\n",
       "    <tr style=\"text-align: right;\">\n",
       "      <th></th>\n",
       "      <th>实付金额</th>\n",
       "    </tr>\n",
       "    <tr>\n",
       "      <th>年月</th>\n",
       "      <th></th>\n",
       "    </tr>\n",
       "  </thead>\n",
       "  <tbody>\n",
       "    <tr>\n",
       "      <th>2017-01</th>\n",
       "      <td>1370423.77</td>\n",
       "    </tr>\n",
       "    <tr>\n",
       "      <th>2017-02</th>\n",
       "      <td>924894.29</td>\n",
       "    </tr>\n",
       "    <tr>\n",
       "      <th>2017-03</th>\n",
       "      <td>970353.12</td>\n",
       "    </tr>\n",
       "    <tr>\n",
       "      <th>2017-04</th>\n",
       "      <td>1005358.02</td>\n",
       "    </tr>\n",
       "    <tr>\n",
       "      <th>2017-05</th>\n",
       "      <td>1020072.03</td>\n",
       "    </tr>\n",
       "    <tr>\n",
       "      <th>2017-06</th>\n",
       "      <td>792762.80</td>\n",
       "    </tr>\n",
       "    <tr>\n",
       "      <th>2017-07</th>\n",
       "      <td>965713.49</td>\n",
       "    </tr>\n",
       "    <tr>\n",
       "      <th>2017-08</th>\n",
       "      <td>1686160.46</td>\n",
       "    </tr>\n",
       "    <tr>\n",
       "      <th>2017-09</th>\n",
       "      <td>930084.36</td>\n",
       "    </tr>\n",
       "    <tr>\n",
       "      <th>2017-10</th>\n",
       "      <td>1223555.09</td>\n",
       "    </tr>\n",
       "    <tr>\n",
       "      <th>2017-11</th>\n",
       "      <td>851891.82</td>\n",
       "    </tr>\n",
       "    <tr>\n",
       "      <th>2017-12</th>\n",
       "      <td>1014548.15</td>\n",
       "    </tr>\n",
       "    <tr>\n",
       "      <th>2018-01</th>\n",
       "      <td>932139.70</td>\n",
       "    </tr>\n",
       "    <tr>\n",
       "      <th>2018-02</th>\n",
       "      <td>917804.62</td>\n",
       "    </tr>\n",
       "    <tr>\n",
       "      <th>2018-03</th>\n",
       "      <td>961278.37</td>\n",
       "    </tr>\n",
       "    <tr>\n",
       "      <th>2018-04</th>\n",
       "      <td>863668.63</td>\n",
       "    </tr>\n",
       "    <tr>\n",
       "      <th>2018-05</th>\n",
       "      <td>763845.79</td>\n",
       "    </tr>\n",
       "    <tr>\n",
       "      <th>2018-06</th>\n",
       "      <td>945946.49</td>\n",
       "    </tr>\n",
       "    <tr>\n",
       "      <th>2018-07</th>\n",
       "      <td>898371.69</td>\n",
       "    </tr>\n",
       "    <tr>\n",
       "      <th>2018-08</th>\n",
       "      <td>881358.69</td>\n",
       "    </tr>\n",
       "    <tr>\n",
       "      <th>2018-09</th>\n",
       "      <td>934588.89</td>\n",
       "    </tr>\n",
       "    <tr>\n",
       "      <th>2018-10</th>\n",
       "      <td>1034735.00</td>\n",
       "    </tr>\n",
       "    <tr>\n",
       "      <th>2018-11</th>\n",
       "      <td>1004133.40</td>\n",
       "    </tr>\n",
       "    <tr>\n",
       "      <th>2018-12</th>\n",
       "      <td>898678.45</td>\n",
       "    </tr>\n",
       "    <tr>\n",
       "      <th>2019-01</th>\n",
       "      <td>5538527.55</td>\n",
       "    </tr>\n",
       "    <tr>\n",
       "      <th>2019-02</th>\n",
       "      <td>4309440.64</td>\n",
       "    </tr>\n",
       "    <tr>\n",
       "      <th>2019-03</th>\n",
       "      <td>4855102.92</td>\n",
       "    </tr>\n",
       "    <tr>\n",
       "      <th>2019-04</th>\n",
       "      <td>4434723.54</td>\n",
       "    </tr>\n",
       "    <tr>\n",
       "      <th>2019-05</th>\n",
       "      <td>3573124.37</td>\n",
       "    </tr>\n",
       "    <tr>\n",
       "      <th>2019-06</th>\n",
       "      <td>3720854.86</td>\n",
       "    </tr>\n",
       "    <tr>\n",
       "      <th>2019-07</th>\n",
       "      <td>3023434.03</td>\n",
       "    </tr>\n",
       "    <tr>\n",
       "      <th>2019-08</th>\n",
       "      <td>4549412.56</td>\n",
       "    </tr>\n",
       "    <tr>\n",
       "      <th>2019-09</th>\n",
       "      <td>6101978.15</td>\n",
       "    </tr>\n",
       "    <tr>\n",
       "      <th>2019-10</th>\n",
       "      <td>6250759.27</td>\n",
       "    </tr>\n",
       "    <tr>\n",
       "      <th>2019-11</th>\n",
       "      <td>4849798.12</td>\n",
       "    </tr>\n",
       "    <tr>\n",
       "      <th>2019-12</th>\n",
       "      <td>4009201.04</td>\n",
       "    </tr>\n",
       "    <tr>\n",
       "      <th>2020-01</th>\n",
       "      <td>1329667.77</td>\n",
       "    </tr>\n",
       "  </tbody>\n",
       "</table>\n",
       "</div>"
      ],
      "text/plain": [
       "               实付金额\n",
       "年月                 \n",
       "2017-01  1370423.77\n",
       "2017-02   924894.29\n",
       "2017-03   970353.12\n",
       "2017-04  1005358.02\n",
       "2017-05  1020072.03\n",
       "2017-06   792762.80\n",
       "2017-07   965713.49\n",
       "2017-08  1686160.46\n",
       "2017-09   930084.36\n",
       "2017-10  1223555.09\n",
       "2017-11   851891.82\n",
       "2017-12  1014548.15\n",
       "2018-01   932139.70\n",
       "2018-02   917804.62\n",
       "2018-03   961278.37\n",
       "2018-04   863668.63\n",
       "2018-05   763845.79\n",
       "2018-06   945946.49\n",
       "2018-07   898371.69\n",
       "2018-08   881358.69\n",
       "2018-09   934588.89\n",
       "2018-10  1034735.00\n",
       "2018-11  1004133.40\n",
       "2018-12   898678.45\n",
       "2019-01  5538527.55\n",
       "2019-02  4309440.64\n",
       "2019-03  4855102.92\n",
       "2019-04  4434723.54\n",
       "2019-05  3573124.37\n",
       "2019-06  3720854.86\n",
       "2019-07  3023434.03\n",
       "2019-08  4549412.56\n",
       "2019-09  6101978.15\n",
       "2019-10  6250759.27\n",
       "2019-11  4849798.12\n",
       "2019-12  4009201.04\n",
       "2020-01  1329667.77"
      ]
     },
     "execution_count": 30,
     "metadata": {},
     "output_type": "execute_result"
    }
   ],
   "source": [
    "data2"
   ]
  },
  {
   "cell_type": "code",
   "execution_count": 31,
   "id": "6ad637f1",
   "metadata": {},
   "outputs": [
    {
     "data": {
      "text/plain": [
       "Index(['2017-01', '2017-02', '2017-03', '2017-04', '2017-05', '2017-06',\n",
       "       '2017-07', '2017-08', '2017-09', '2017-10', '2017-11', '2017-12',\n",
       "       '2018-01', '2018-02', '2018-03', '2018-04', '2018-05', '2018-06',\n",
       "       '2018-07', '2018-08', '2018-09', '2018-10', '2018-11', '2018-12',\n",
       "       '2019-01', '2019-02', '2019-03', '2019-04', '2019-05', '2019-06',\n",
       "       '2019-07', '2019-08', '2019-09', '2019-10', '2019-11', '2019-12',\n",
       "       '2020-01'],\n",
       "      dtype='object', name='年月')"
      ]
     },
     "execution_count": 31,
     "metadata": {},
     "output_type": "execute_result"
    }
   ],
   "source": [
    "data2.index"
   ]
  },
  {
   "cell_type": "code",
   "execution_count": 32,
   "id": "3d347e8a",
   "metadata": {},
   "outputs": [
    {
     "data": {
      "text/plain": [
       "[<matplotlib.lines.Line2D at 0x24f9ac80730>]"
      ]
     },
     "execution_count": 32,
     "metadata": {},
     "output_type": "execute_result"
    },
    {
     "data": {
      "image/png": "[encoded data removed]",
      "text/plain": [
       "<Figure size 432x288 with 1 Axes>"
      ]
     },
     "metadata": {
      "needs_background": "light"
     },
     "output_type": "display_data"
    }
   ],
   "source": [
    "x = data2.index\n",
    "y = data2['实付金额']\n",
    "plt.plot(x,y)"
   ]
  },
  {
   "cell_type": "markdown",
   "id": "aa2e0b76",
   "metadata": {},
   "source": [
    "# 更改画布大小"
   ]
  },
  {
   "cell_type": "code",
   "execution_count": 33,
   "id": "0e12f726",
   "metadata": {
    "scrolled": true
   },
   "outputs": [
    {
     "data": {
      "text/plain": [
       "[<matplotlib.lines.Line2D at 0x24f9b196ac0>]"
      ]
     },
     "execution_count": 33,
     "metadata": {},
     "output_type": "execute_result"
    },
    {
     "data": {
      "image/png": "[encoded data removed]",
      "text/plain": [
       "<Figure size 1440x576 with 1 Axes>"
      ]
     },
     "metadata": {
      "needs_background": "light"
     },
     "output_type": "display_data"
    }
   ],
   "source": [
    "plt.figure(figsize = (20,8))# (20,8)是一个元组\n",
    "x = data2.index\n",
    "y = data2['实付金额']\n",
    "plt.plot(x,y)"
   ]
  },
  {
   "cell_type": "markdown",
   "id": "f242433c",
   "metadata": {},
   "source": [
    "# 旋转x轴的字的角度"
   ]
  },
  {
   "cell_type": "code",
   "execution_count": 34,
   "id": "0dc136b6",
   "metadata": {},
   "outputs": [
    {
     "data": {
      "text/plain": [
       "[<matplotlib.lines.Line2D at 0x24f9ad62c40>]"
      ]
     },
     "execution_count": 34,
     "metadata": {},
     "output_type": "execute_result"
    },
    {
     "data": {
      "image/png": "[encoded data removed]",
      "text/plain": [
       "<Figure size 1440x576 with 1 Axes>"
      ]
     },
     "metadata": {
      "needs_background": "light"
     },
     "output_type": "display_data"
    }
   ],
   "source": [
    "plt.figure(figsize = (20,8))\n",
    "x = data2.index\n",
    "y = data2['实付金额']\n",
    "# x代表x轴，ticks表示刻度\n",
    "plt.xticks(rotation = 45)\n",
    "plt.plot(x,y)"
   ]
  },
  {
   "cell_type": "markdown",
   "id": "cb1a0f17",
   "metadata": {},
   "source": [
    "# 改变轴、刻度线和标签的色彩"
   ]
  },
  {
   "cell_type": "code",
   "execution_count": 35,
   "id": "d0e6b343",
   "metadata": {},
   "outputs": [
    {
     "data": {
      "image/png": "[encoded data removed]",
      "text/plain": [
       "<Figure size 432x288 with 1 Axes>"
      ]
     },
     "metadata": {
      "needs_background": "light"
     },
     "output_type": "display_data"
    }
   ],
   "source": [
    "fig = plt.figure()\n",
    "ax = fig.add_subplot(111)# 添加子图（111）代表第1行第1列   第 1个元素\n",
    "ax.plot(range(10))# range(10)一个列表\n",
    "ax.set_xlabel('X-axis')# x（x轴）label（上的文本）\n",
    "ax.set_ylabel('Y_axis')\n",
    "# 改变下，上，左，右边线的颜色\n",
    "ax.spines['bottom'].set_color('green')\n",
    "ax.spines['top'].set_color('red')\n",
    "ax.spines['left'].set_color('blue')\n",
    "ax.spines['right'].set_color('pink')\n",
    "# 改变x，y标签的颜色\n",
    "ax.xaxis.label.set_color('blue')\n",
    "ax.yaxis.label.set_color('green')\n",
    "# 改变x轴刻度线的颜色\n",
    "ax.tick_params(axis = 'x',colors = 'red')"
   ]
  },
  {
   "cell_type": "markdown",
   "id": "95486b4e",
   "metadata": {},
   "source": [
    "# 更改折线的色彩及形状"
   ]
  },
  {
   "cell_type": "code",
   "execution_count": 36,
   "id": "9de10e47",
   "metadata": {},
   "outputs": [
    {
     "data": {
      "text/plain": [
       "[<matplotlib.lines.Line2D at 0x24f9ad1a6a0>]"
      ]
     },
     "execution_count": 36,
     "metadata": {},
     "output_type": "execute_result"
    },
    {
     "data": {
      "image/png": "[encoded data removed]",
      "text/plain": [
       "<Figure size 1440x576 with 1 Axes>"
      ]
     },
     "metadata": {
      "needs_background": "light"
     },
     "output_type": "display_data"
    }
   ],
   "source": [
    "# linestyle 四种形式【'-'solid(实线)，'--'dashed(短线)'-.'dashdot(短点相间线),':'dotted(虚点线)】\n",
    "plt.figure(figsize = (20,8))\n",
    "x = data2.index\n",
    "y = data2['实付金额']\n",
    "plt.xticks(rotation = 45)\n",
    "# 更改折线的颜色，样式，大小，透明度\n",
    "plt.plot(x,y,color = 'red',linestyle = ':',linewidth = 5,alpha = 0.2)"
   ]
  },
  {
   "cell_type": "markdown",
   "id": "c41fd85c",
   "metadata": {},
   "source": [
    "# 更改折点样式"
   ]
  },
  {
   "cell_type": "code",
   "execution_count": 37,
   "id": "f038c575",
   "metadata": {},
   "outputs": [
    {
     "data": {
      "text/plain": [
       "[<matplotlib.lines.Line2D at 0x24f9b7bafd0>]"
      ]
     },
     "execution_count": 37,
     "metadata": {},
     "output_type": "execute_result"
    },
    {
     "data": {
      "image/png": "[encoded data removed]",
      "text/plain": [
       "<Figure size 1440x576 with 1 Axes>"
      ]
     },
     "metadata": {
      "needs_background": "light"
     },
     "output_type": "display_data"
    }
   ],
   "source": [
    "plt.figure(figsize = (20,8))\n",
    "x = data2.index\n",
    "y = data2['实付金额']\n",
    "plt.xticks(rotation = 45)\n",
    "plt.plot(x,y,color = 'red',linestyle = ':',linewidth =8,alpha = 0.5,marker = '>')\n",
    "# marker 为折点样式"
   ]
  },
  {
   "cell_type": "markdown",
   "id": "dc695a1f",
   "metadata": {},
   "source": [
    "# 把做的图保存成图片（.png .jpg）"
   ]
  },
  {
   "cell_type": "code",
   "execution_count": 38,
   "id": "a903dd12",
   "metadata": {},
   "outputs": [
    {
     "data": {
      "image/png": "[encoded data removed]",
      "text/plain": [
       "<Figure size 1440x576 with 1 Axes>"
      ]
     },
     "metadata": {
      "needs_background": "light"
     },
     "output_type": "display_data"
    }
   ],
   "source": [
    "plt.figure(figsize = (20,8))\n",
    "x = data2.index\n",
    "y = data2['实付金额']\n",
    "plt.xticks(rotation = 45)\n",
    "plt.plot(x,y,color = 'red',linestyle = ':',linewidth =8,alpha = 0.5,marker = 'p')\n",
    "# 保存图片格式为.png,.jpg\n",
    "plt.savefig('./t1.png')"
   ]
  },
  {
   "cell_type": "code",
   "execution_count": 39,
   "id": "d93cb3f5",
   "metadata": {},
   "outputs": [
    {
     "data": {
      "image/png": "[encoded data removed]",
      "text/plain": [
       "<Figure size 1440x576 with 1 Axes>"
      ]
     },
     "metadata": {
      "needs_background": "light"
     },
     "output_type": "display_data"
    }
   ],
   "source": [
    "# 保存成.jpg\n",
    "plt.figure(figsize = (20,8))\n",
    "x = data2.index\n",
    "y = data2['实付金额']\n",
    "plt.xticks(rotation = 45)\n",
    "plt.plot(x,y,color = 'red',linestyle = ':',linewidth =8,alpha = 0.5,marker = 'p')\n",
    "plt.savefig('./t1.jpg')"
   ]
  },
  {
   "cell_type": "markdown",
   "id": "bed63bed",
   "metadata": {},
   "source": [
    "# 解决中文问题"
   ]
  },
  {
   "cell_type": "code",
   "execution_count": 40,
   "id": "37fbda74",
   "metadata": {},
   "outputs": [
    {
     "data": {
      "text/plain": [
       "Text(0.5, 1.0, '不同月份销售额趋势分析')"
      ]
     },
     "execution_count": 40,
     "metadata": {},
     "output_type": "execute_result"
    },
    {
     "data": {
      "image/png": "[encoded data removed]",
      "text/plain": [
       "<Figure size 1440x576 with 1 Axes>"
      ]
     },
     "metadata": {
      "needs_background": "light"
     },
     "output_type": "display_data"
    }
   ],
   "source": [
    "# 苹果电脑换成mpl.rcParams['font.sans-serif'] = ['Arial Unicode Ms']\n",
    "# 添加plt.rcParams来解决中文不能显示的问题\n",
    "plt.rcParams['font.sans-serif'] = ['SimHei']\n",
    "plt.figure(figsize = (20,8))\n",
    "x = data2.index\n",
    "y = data2['实付金额']\n",
    "plt.xticks(rotation = 45)\n",
    "plt.plot(x,y,color = 'red',linestyle = ':',linewidth =8,alpha = 0.5,marker = 'p')\n",
    "# plt.title 图的标题\n",
    "plt.title('不同月份销售额趋势分析',fontsize = 30,color = 'red')"
   ]
  },
  {
   "cell_type": "code",
   "execution_count": 41,
   "id": "09914b71",
   "metadata": {},
   "outputs": [
    {
     "data": {
      "text/plain": [
       "Text(0, 0.5, '销售额')"
      ]
     },
     "execution_count": 41,
     "metadata": {},
     "output_type": "execute_result"
    },
    {
     "data": {
      "image/png": "[encoded data removed]",
      "text/plain": [
       "<Figure size 1440x576 with 1 Axes>"
      ]
     },
     "metadata": {
      "needs_background": "light"
     },
     "output_type": "display_data"
    }
   ],
   "source": [
    "# 年月，销售额\n",
    "plt.rcParams['font.sans-serif'] = ['SimHei']\n",
    "plt.figure(figsize = (20,8))\n",
    "x = data2.index\n",
    "y = data2['实付金额']\n",
    "plt.xticks(rotation = 45)\n",
    "plt.plot(x,y,color = 'red',linestyle = ':',linewidth =8,alpha = 0.5,marker = 'p')\n",
    "plt.title('不同月份销售额趋势分析',fontsize = 30,color = 'red')\n",
    "plt.xlabel('年月',fontsize = 40)\n",
    "plt.ylabel('销售额',fontsize = 22)"
   ]
  },
  {
   "cell_type": "markdown",
   "id": "0679412e",
   "metadata": {},
   "source": [
    "# 一图多线"
   ]
  },
  {
   "cell_type": "code",
   "execution_count": 42,
   "id": "6710b6a8",
   "metadata": {},
   "outputs": [
    {
     "data": {
      "text/plain": [
       "<matplotlib.legend.Legend at 0x24f9bc21a60>"
      ]
     },
     "execution_count": 42,
     "metadata": {},
     "output_type": "execute_result"
    },
    {
     "data": {
      "image/png": "[encoded data removed]",
      "text/plain": [
       "<Figure size 1440x576 with 1 Axes>"
      ]
     },
     "metadata": {
      "needs_background": "light"
     },
     "output_type": "display_data"
    }
   ],
   "source": [
    "plt.rcParams['font.sans-serif'] = ['SimHei']\n",
    "plt.figure(figsize = (20,8))\n",
    "y1 = [1,0,1,1,2,4,3,4,4,5,6,5,4,3,3,1,1,1,1,1]\n",
    "y2 = [1,0,3,1,2,2,3,4,3,2,1,2,1,1,1,1,1,1,1,1]\n",
    "x = range(11,31)\n",
    "plt.plot(x,y1,label = '男')\n",
    "plt.plot(x,y2,label = '女')\n",
    "# 列表推导式，format(i)格式化i把格式化的i给到0岁 ，改变x轴的刻度显示\n",
    "xtick_labels = ['0岁'.format(i) for i in x]\n",
    "plt.xticks(x,xtick_labels)# 其中x是不是指轴的方向而是x = range(11,33)\n",
    "# 显示图列，loc的值从0-10显示到不同的位置，查看官方示例：光标指定当前所需查询位置+shift+tab\n",
    "plt.legend(loc = 0)"
   ]
  },
  {
   "cell_type": "markdown",
   "id": "20492ab4",
   "metadata": {},
   "source": [
    "# 多子图"
   ]
  },
  {
   "cell_type": "code",
   "execution_count": 43,
   "id": "815f25ee",
   "metadata": {},
   "outputs": [
    {
     "data": {
      "text/plain": [
       "[<matplotlib.lines.Line2D at 0x24f9d0ca970>]"
      ]
     },
     "execution_count": 43,
     "metadata": {},
     "output_type": "execute_result"
    },
    {
     "data": {
      "image/png": "[encoded data removed]",
      "text/plain": [
       "<Figure size 1440x576 with 4 Axes>"
      ]
     },
     "metadata": {
      "needs_background": "light"
     },
     "output_type": "display_data"
    }
   ],
   "source": [
    "plt.rcParams['font.sans-serif'] = ['SimHei']\n",
    "fig = plt.figure(figsize = (20,8))\n",
    "ax1 = fig.add_subplot(221)\n",
    "ax1.plot(range(10))\n",
    "ax2 = fig.add_subplot(222)\n",
    "ax2.plot(range(10))\n",
    "ax3 = fig.add_subplot(223)\n",
    "ax3.plot(range(10))\n",
    "ax4 = fig.add_subplot(224)\n",
    "ax4.plot(range(10))"
   ]
  },
  {
   "cell_type": "markdown",
   "id": "07bdd44e",
   "metadata": {},
   "source": [
    "# 设置坐标轴范围"
   ]
  },
  {
   "cell_type": "code",
   "execution_count": 44,
   "id": "c6ee6b22",
   "metadata": {},
   "outputs": [],
   "source": [
    "import numpy as np"
   ]
  },
  {
   "cell_type": "code",
   "execution_count": 45,
   "id": "e4941f65",
   "metadata": {},
   "outputs": [
    {
     "data": {
      "text/plain": [
       "(-5.0, 5.0)"
      ]
     },
     "execution_count": 45,
     "metadata": {},
     "output_type": "execute_result"
    },
    {
     "data": {
      "image/png": "[encoded data removed]",
      "text/plain": [
       "<Figure size 432x288 with 1 Axes>"
      ]
     },
     "metadata": {
      "needs_background": "light"
     },
     "output_type": "display_data"
    }
   ],
   "source": [
    "# 显示负号plt.rcParams[\"axes.unicode_minus\"] = False\n",
    "plt.rcParams[\"axes.unicode_minus\"] = False\n",
    "x = np.arange(-10,11,1)\n",
    "y = x ** 2\n",
    "plt.plot(x,y)\n",
    "# 限制x轴的刻度显示\n",
    "plt.xlim(xmin = -5,xmax = 5)"
   ]
  },
  {
   "cell_type": "markdown",
   "id": "2852a41f",
   "metadata": {},
   "source": [
    "# 更改轴范围及轴的默认显示方式"
   ]
  },
  {
   "cell_type": "code",
   "execution_count": 46,
   "id": "ebdab02d",
   "metadata": {},
   "outputs": [
    {
     "data": {
      "image/png": "[encoded data removed]",
      "text/plain": [
       "<Figure size 432x288 with 1 Axes>"
      ]
     },
     "metadata": {
      "needs_background": "light"
     },
     "output_type": "display_data"
    }
   ],
   "source": [
    "import matplotlib.pyplot as plt\n",
    "import numpy as np\n",
    "#解决中文\n",
    "plt.rcParams[\"font.family\"] = \"SimHei\"\n",
    "#解决负号\n",
    "plt.rcParams[\"axes.unicode_minus\"] = False\n",
    "y = range(0,14,2) # x轴的位置\n",
    "x = [-3,-2,-1,0,1,2,3]\n",
    "# plt.figure(figsize=(20,8),dpi=80)\n",
    "# 获得当前图表的图像\n",
    "ax = plt.gca()\n",
    "# 设置图型的包围线\n",
    "ax.spines['right'].set_color('none')\n",
    "ax.spines['top'].set_color('none')\n",
    "ax.spines['bottom'].set_color('blue')\n",
    "ax.spines['left'].set_color('red')\n",
    "# 设置底边的移动范围，移动到y轴的0位置,'data':移动轴的位置到交叉轴的指定坐标\n",
    "ax.spines['bottom'].set_position(('data', 0))\n",
    "# 只看红线的移动位置\n",
    "ax.spines['left'].set_position(('data', 0))\n",
    "# data后面的数值0可以修改\n",
    "plt.plot(x,y)\n",
    "plt.show()"
   ]
  },
  {
   "cell_type": "markdown",
   "id": "c91c9172",
   "metadata": {},
   "source": [
    "# 散点图"
   ]
  },
  {
   "cell_type": "code",
   "execution_count": 47,
   "id": "ece37c6e",
   "metadata": {},
   "outputs": [
    {
     "data": {
      "text/plain": [
       "<matplotlib.collections.PathCollection at 0x24f9c40cbe0>"
      ]
     },
     "execution_count": 47,
     "metadata": {},
     "output_type": "execute_result"
    },
    {
     "data": {
      "image/png": "[encoded data removed]",
      "text/plain": [
       "<Figure size 432x288 with 1 Axes>"
      ]
     },
     "metadata": {
      "needs_background": "light"
     },
     "output_type": "display_data"
    }
   ],
   "source": [
    "x = [1,3,5,7,9]\n",
    "y = [2,4,6,8,10]\n",
    "plt.scatter(x,y)"
   ]
  },
  {
   "cell_type": "code",
   "execution_count": 48,
   "id": "de2b409e",
   "metadata": {},
   "outputs": [
    {
     "data": {
      "text/html": [
       "<div>\n",
       "<style scoped>\n",
       "    .dataframe tbody tr th:only-of-type {\n",
       "        vertical-align: middle;\n",
       "    }\n",
       "\n",
       "    .dataframe tbody tr th {\n",
       "        vertical-align: top;\n",
       "    }\n",
       "\n",
       "    .dataframe thead th {\n",
       "        text-align: right;\n",
       "    }\n",
       "</style>\n",
       "<table border=\"1\" class=\"dataframe\">\n",
       "  <thead>\n",
       "    <tr style=\"text-align: right;\">\n",
       "      <th></th>\n",
       "      <th>宣传推广渠道</th>\n",
       "      <th>曝光量</th>\n",
       "      <th>点击量</th>\n",
       "      <th>点击率</th>\n",
       "    </tr>\n",
       "  </thead>\n",
       "  <tbody>\n",
       "    <tr>\n",
       "      <th>0</th>\n",
       "      <td>朋友圈</td>\n",
       "      <td>8327</td>\n",
       "      <td>1259</td>\n",
       "      <td>0.151195</td>\n",
       "    </tr>\n",
       "    <tr>\n",
       "      <th>1</th>\n",
       "      <td>公众号</td>\n",
       "      <td>82298</td>\n",
       "      <td>43329</td>\n",
       "      <td>0.526489</td>\n",
       "    </tr>\n",
       "    <tr>\n",
       "      <th>2</th>\n",
       "      <td>今日头条</td>\n",
       "      <td>53342</td>\n",
       "      <td>9875</td>\n",
       "      <td>0.185126</td>\n",
       "    </tr>\n",
       "    <tr>\n",
       "      <th>3</th>\n",
       "      <td>百度</td>\n",
       "      <td>37742</td>\n",
       "      <td>954</td>\n",
       "      <td>0.025277</td>\n",
       "    </tr>\n",
       "    <tr>\n",
       "      <th>4</th>\n",
       "      <td>360浏览器</td>\n",
       "      <td>2269</td>\n",
       "      <td>908</td>\n",
       "      <td>0.400176</td>\n",
       "    </tr>\n",
       "    <tr>\n",
       "      <th>5</th>\n",
       "      <td>谷歌浏览器</td>\n",
       "      <td>88990</td>\n",
       "      <td>19798</td>\n",
       "      <td>0.222474</td>\n",
       "    </tr>\n",
       "    <tr>\n",
       "      <th>6</th>\n",
       "      <td>抖音</td>\n",
       "      <td>43936</td>\n",
       "      <td>37414</td>\n",
       "      <td>0.851557</td>\n",
       "    </tr>\n",
       "    <tr>\n",
       "      <th>7</th>\n",
       "      <td>快手</td>\n",
       "      <td>6312</td>\n",
       "      <td>463</td>\n",
       "      <td>0.073352</td>\n",
       "    </tr>\n",
       "    <tr>\n",
       "      <th>8</th>\n",
       "      <td>视频号</td>\n",
       "      <td>61457</td>\n",
       "      <td>5835</td>\n",
       "      <td>0.094944</td>\n",
       "    </tr>\n",
       "  </tbody>\n",
       "</table>\n",
       "</div>"
      ],
      "text/plain": [
       "   宣传推广渠道    曝光量    点击量       点击率\n",
       "0     朋友圈   8327   1259  0.151195\n",
       "1     公众号  82298  43329  0.526489\n",
       "2    今日头条  53342   9875  0.185126\n",
       "3      百度  37742    954  0.025277\n",
       "4  360浏览器   2269    908  0.400176\n",
       "5   谷歌浏览器  88990  19798  0.222474\n",
       "6      抖音  43936  37414  0.851557\n",
       "7      快手   6312    463  0.073352\n",
       "8     视频号  61457   5835  0.094944"
      ]
     },
     "execution_count": 48,
     "metadata": {},
     "output_type": "execute_result"
    }
   ],
   "source": [
    "data3 = pd.read_excel('./投放渠道分析.xlsx')\n",
    "data3"
   ]
  },
  {
   "cell_type": "code",
   "execution_count": 49,
   "id": "8f017638",
   "metadata": {},
   "outputs": [
    {
     "data": {
      "text/plain": [
       "<function matplotlib.pyplot.show(close=None, block=None)>"
      ]
     },
     "execution_count": 49,
     "metadata": {},
     "output_type": "execute_result"
    },
    {
     "data": {
      "image/png": "[encoded data removed]",
      "text/plain": [
       "<Figure size 1440x576 with 1 Axes>"
      ]
     },
     "metadata": {
      "needs_background": "light"
     },
     "output_type": "display_data"
    }
   ],
   "source": [
    "plt.figure(figsize=(20,8))\n",
    "x = data3['曝光量']\n",
    "y = data3['点击率']\n",
    "z = data3['宣传推广渠道']\n",
    "plt.scatter(x,y)\n",
    "# f\"{k}\"对遍历之后的k的值进行格式化\n",
    "for i,j,k in zip(x,y,z):\n",
    "    plt.text(i,j,f\"{k}\")\n",
    "plt.xlabel('曝光量')\n",
    "plt.ylabel('点击率')\n",
    "plt.title('宣传渠道之曝光量与点击率之间的关系',fontsize = 24 )\n",
    "plt.show"
   ]
  },
  {
   "cell_type": "code",
   "execution_count": 50,
   "id": "12ab4273",
   "metadata": {},
   "outputs": [
    {
     "data": {
      "text/plain": [
       "<function matplotlib.pyplot.show(close=None, block=None)>"
      ]
     },
     "execution_count": 50,
     "metadata": {},
     "output_type": "execute_result"
    },
    {
     "data": {
      "image/png": "[encoded data removed]",
      "text/plain": [
       "<Figure size 1440x576 with 1 Axes>"
      ]
     },
     "metadata": {
      "needs_background": "light"
     },
     "output_type": "display_data"
    }
   ],
   "source": [
    "plt.figure(figsize=(20,8))\n",
    "x = data3['曝光量']\n",
    "y = data3['点击率']\n",
    "z = data3['宣传推广渠道']\n",
    "plt.scatter(x,y)\n",
    "# f\"{k}\"对遍历之后的k的值进行格式化\n",
    "for i,j,k in zip(x,y,z):\n",
    "    plt.text(i,j,f\"{k}\")\n",
    "plt.xlabel('曝光量')\n",
    "plt.ylabel('点击率')\n",
    "plt.title('宣传渠道之曝光量与点击率之间的关系',fontsize = 24 )\n",
    "# 将数值转化成均值mean()\n",
    "x_m = data3['曝光量'].mean()\n",
    "y_m = data3['点击率'].mean()\n",
    "# 添加辅助线\n",
    "plt.axhline(y_m, color='r', linestyle='--')  # 添加水平辅助线\n",
    "plt.axvline(x_m, color='g', linestyle=':')  # 添加垂直辅助线\n",
    "plt.show"
   ]
  },
  {
   "cell_type": "markdown",
   "id": "29dfc1ee",
   "metadata": {},
   "source": [
    "# 柱形图 "
   ]
  },
  {
   "cell_type": "code",
   "execution_count": 51,
   "id": "cda4cba2",
   "metadata": {},
   "outputs": [
    {
     "data": {
      "text/plain": [
       "<BarContainer object of 4 artists>"
      ]
     },
     "execution_count": 51,
     "metadata": {},
     "output_type": "execute_result"
    },
    {
     "data": {
      "image/png": "[encoded data removed]",
      "text/plain": [
       "<Figure size 432x288 with 1 Axes>"
      ]
     },
     "metadata": {
      "needs_background": "light"
     },
     "output_type": "display_data"
    }
   ],
   "source": [
    "x = ['东北','西北','华北','华东'] \n",
    "y= [200,300,150,331]\n",
    "plt.bar(x,y)"
   ]
  },
  {
   "cell_type": "code",
   "execution_count": 52,
   "id": "6390facc",
   "metadata": {},
   "outputs": [
    {
     "data": {
      "text/html": [
       "<div>\n",
       "<style scoped>\n",
       "    .dataframe tbody tr th:only-of-type {\n",
       "        vertical-align: middle;\n",
       "    }\n",
       "\n",
       "    .dataframe tbody tr th {\n",
       "        vertical-align: top;\n",
       "    }\n",
       "\n",
       "    .dataframe thead th {\n",
       "        text-align: right;\n",
       "    }\n",
       "</style>\n",
       "<table border=\"1\" class=\"dataframe\">\n",
       "  <thead>\n",
       "    <tr style=\"text-align: right;\">\n",
       "      <th></th>\n",
       "      <th>序号</th>\n",
       "      <th>user_id</th>\n",
       "      <th>user_name</th>\n",
       "      <th>chann_id</th>\n",
       "      <th>city_id</th>\n",
       "      <th>system</th>\n",
       "      <th>age</th>\n",
       "      <th>phonenum</th>\n",
       "      <th>sex</th>\n",
       "      <th>创建时间</th>\n",
       "      <th>platform</th>\n",
       "      <th>国家</th>\n",
       "      <th>地区</th>\n",
       "      <th>省份</th>\n",
       "      <th>city</th>\n",
       "      <th>chann_name</th>\n",
       "      <th>订单量</th>\n",
       "      <th>销量</th>\n",
       "      <th>消费金额</th>\n",
       "      <th>实付金额</th>\n",
       "    </tr>\n",
       "  </thead>\n",
       "  <tbody>\n",
       "    <tr>\n",
       "      <th>0</th>\n",
       "      <td>1</td>\n",
       "      <td>10013788</td>\n",
       "      <td>敖大戴</td>\n",
       "      <td>guide_01</td>\n",
       "      <td>city0138</td>\n",
       "      <td>IOS</td>\n",
       "      <td>46</td>\n",
       "      <td>152****6601</td>\n",
       "      <td>女</td>\n",
       "      <td>2017-03-25</td>\n",
       "      <td>APP</td>\n",
       "      <td>中国</td>\n",
       "      <td>华北</td>\n",
       "      <td>河北</td>\n",
       "      <td>南宫</td>\n",
       "      <td>hao123</td>\n",
       "      <td>6</td>\n",
       "      <td>28</td>\n",
       "      <td>13014.6</td>\n",
       "      <td>12614.6</td>\n",
       "    </tr>\n",
       "    <tr>\n",
       "      <th>1</th>\n",
       "      <td>2</td>\n",
       "      <td>10048735</td>\n",
       "      <td>浦葛卫之翼环城店一一柯晓闫</td>\n",
       "      <td>union_03</td>\n",
       "      <td>city0548</td>\n",
       "      <td>IOS</td>\n",
       "      <td>60</td>\n",
       "      <td>171****1663</td>\n",
       "      <td>女</td>\n",
       "      <td>2017-10-25</td>\n",
       "      <td>APP</td>\n",
       "      <td>中国</td>\n",
       "      <td>中南</td>\n",
       "      <td>湖南</td>\n",
       "      <td>耒阳</td>\n",
       "      <td>百度网盟</td>\n",
       "      <td>4</td>\n",
       "      <td>36</td>\n",
       "      <td>28839.2</td>\n",
       "      <td>26979.2</td>\n",
       "    </tr>\n",
       "    <tr>\n",
       "      <th>2</th>\n",
       "      <td>3</td>\n",
       "      <td>10062827</td>\n",
       "      <td>亡命天涯不如早点回卜。</td>\n",
       "      <td>search_02</td>\n",
       "      <td>city0061</td>\n",
       "      <td>Android</td>\n",
       "      <td>54</td>\n",
       "      <td>180****9153</td>\n",
       "      <td>女</td>\n",
       "      <td>2018-01-18</td>\n",
       "      <td>APP</td>\n",
       "      <td>中国</td>\n",
       "      <td>东北</td>\n",
       "      <td>吉林</td>\n",
       "      <td>辉南</td>\n",
       "      <td>百度联盟</td>\n",
       "      <td>4</td>\n",
       "      <td>16</td>\n",
       "      <td>4294.8</td>\n",
       "      <td>4294.8</td>\n",
       "    </tr>\n",
       "    <tr>\n",
       "      <th>3</th>\n",
       "      <td>4</td>\n",
       "      <td>10066683</td>\n",
       "      <td>闵屈戎</td>\n",
       "      <td>union_01</td>\n",
       "      <td>city0454</td>\n",
       "      <td>IOS</td>\n",
       "      <td>32</td>\n",
       "      <td>133****1258</td>\n",
       "      <td>男</td>\n",
       "      <td>2018-02-10</td>\n",
       "      <td>APP</td>\n",
       "      <td>中国</td>\n",
       "      <td>中南</td>\n",
       "      <td>广东</td>\n",
       "      <td>台城</td>\n",
       "      <td>360网盟</td>\n",
       "      <td>4</td>\n",
       "      <td>19</td>\n",
       "      <td>3552.4</td>\n",
       "      <td>3512.4</td>\n",
       "    </tr>\n",
       "    <tr>\n",
       "      <th>4</th>\n",
       "      <td>5</td>\n",
       "      <td>10294804</td>\n",
       "      <td>姚建平AzQoe545</td>\n",
       "      <td>platform_01</td>\n",
       "      <td>city0133</td>\n",
       "      <td>PC</td>\n",
       "      <td>33</td>\n",
       "      <td>184****3820</td>\n",
       "      <td>女</td>\n",
       "      <td>2019-08-30</td>\n",
       "      <td>PC</td>\n",
       "      <td>中国</td>\n",
       "      <td>华北</td>\n",
       "      <td>河北</td>\n",
       "      <td>邯郸</td>\n",
       "      <td>今日头条</td>\n",
       "      <td>4</td>\n",
       "      <td>12</td>\n",
       "      <td>1582.5</td>\n",
       "      <td>1392.5</td>\n",
       "    </tr>\n",
       "    <tr>\n",
       "      <th>...</th>\n",
       "      <td>...</td>\n",
       "      <td>...</td>\n",
       "      <td>...</td>\n",
       "      <td>...</td>\n",
       "      <td>...</td>\n",
       "      <td>...</td>\n",
       "      <td>...</td>\n",
       "      <td>...</td>\n",
       "      <td>...</td>\n",
       "      <td>...</td>\n",
       "      <td>...</td>\n",
       "      <td>...</td>\n",
       "      <td>...</td>\n",
       "      <td>...</td>\n",
       "      <td>...</td>\n",
       "      <td>...</td>\n",
       "      <td>...</td>\n",
       "      <td>...</td>\n",
       "      <td>...</td>\n",
       "      <td>...</td>\n",
       "    </tr>\n",
       "    <tr>\n",
       "      <th>60546</th>\n",
       "      <td>60547</td>\n",
       "      <td>10414342</td>\n",
       "      <td>吴俊E9667</td>\n",
       "      <td>guide_02</td>\n",
       "      <td>city0089</td>\n",
       "      <td>PC</td>\n",
       "      <td>23</td>\n",
       "      <td>175****8672</td>\n",
       "      <td>男</td>\n",
       "      <td>2020-01-27</td>\n",
       "      <td>PC</td>\n",
       "      <td>中国</td>\n",
       "      <td>东北</td>\n",
       "      <td>吉林</td>\n",
       "      <td>郑家屯</td>\n",
       "      <td>360导航</td>\n",
       "      <td>0</td>\n",
       "      <td>0</td>\n",
       "      <td>0.0</td>\n",
       "      <td>0.0</td>\n",
       "    </tr>\n",
       "    <tr>\n",
       "      <th>60547</th>\n",
       "      <td>60548</td>\n",
       "      <td>10414602</td>\n",
       "      <td>李明tEVm2570</td>\n",
       "      <td>search_02</td>\n",
       "      <td>city0086</td>\n",
       "      <td>Others</td>\n",
       "      <td>38</td>\n",
       "      <td>187****8829</td>\n",
       "      <td>女</td>\n",
       "      <td>2020-01-28</td>\n",
       "      <td>APP</td>\n",
       "      <td>中国</td>\n",
       "      <td>东北</td>\n",
       "      <td>吉林</td>\n",
       "      <td>榆树</td>\n",
       "      <td>百度联盟</td>\n",
       "      <td>0</td>\n",
       "      <td>0</td>\n",
       "      <td>0.0</td>\n",
       "      <td>0.0</td>\n",
       "    </tr>\n",
       "    <tr>\n",
       "      <th>60548</th>\n",
       "      <td>60549</td>\n",
       "      <td>10414637</td>\n",
       "      <td>张建国EKEN2401</td>\n",
       "      <td>search_03</td>\n",
       "      <td>city0269</td>\n",
       "      <td>Others</td>\n",
       "      <td>35</td>\n",
       "      <td>177****5915</td>\n",
       "      <td>女</td>\n",
       "      <td>2020-01-28</td>\n",
       "      <td>APP</td>\n",
       "      <td>中国</td>\n",
       "      <td>华东</td>\n",
       "      <td>山东</td>\n",
       "      <td>菏泽</td>\n",
       "      <td>百度橱窗</td>\n",
       "      <td>0</td>\n",
       "      <td>0</td>\n",
       "      <td>0.0</td>\n",
       "      <td>0.0</td>\n",
       "    </tr>\n",
       "    <tr>\n",
       "      <th>60549</th>\n",
       "      <td>60550</td>\n",
       "      <td>10415023</td>\n",
       "      <td>王成fRlU5072</td>\n",
       "      <td>guide_02</td>\n",
       "      <td>city0044</td>\n",
       "      <td>IOS</td>\n",
       "      <td>23</td>\n",
       "      <td>187****0047</td>\n",
       "      <td>女</td>\n",
       "      <td>2020-01-29</td>\n",
       "      <td>MiniProgram</td>\n",
       "      <td>中国</td>\n",
       "      <td>东北</td>\n",
       "      <td>黑龙江</td>\n",
       "      <td>铁力</td>\n",
       "      <td>360导航</td>\n",
       "      <td>0</td>\n",
       "      <td>0</td>\n",
       "      <td>0.0</td>\n",
       "      <td>0.0</td>\n",
       "    </tr>\n",
       "    <tr>\n",
       "      <th>60550</th>\n",
       "      <td>60551</td>\n",
       "      <td>10415138</td>\n",
       "      <td>白淑珍utLA6423</td>\n",
       "      <td>platform_02</td>\n",
       "      <td>city0077</td>\n",
       "      <td>IOS</td>\n",
       "      <td>27</td>\n",
       "      <td>134****2937</td>\n",
       "      <td>女</td>\n",
       "      <td>2020-01-29</td>\n",
       "      <td>APP</td>\n",
       "      <td>中国</td>\n",
       "      <td>东北</td>\n",
       "      <td>吉林</td>\n",
       "      <td>舒兰</td>\n",
       "      <td>网易有道</td>\n",
       "      <td>0</td>\n",
       "      <td>0</td>\n",
       "      <td>0.0</td>\n",
       "      <td>0.0</td>\n",
       "    </tr>\n",
       "  </tbody>\n",
       "</table>\n",
       "<p>60551 rows × 20 columns</p>\n",
       "</div>"
      ],
      "text/plain": [
       "          序号   user_id      user_name     chann_id   city_id   system  age  \\\n",
       "0          1  10013788            敖大戴     guide_01  city0138      IOS   46   \n",
       "1          2  10048735  浦葛卫之翼环城店一一柯晓闫     union_03  city0548      IOS   60   \n",
       "2          3  10062827    亡命天涯不如早点回卜。    search_02  city0061  Android   54   \n",
       "3          4  10066683            闵屈戎     union_01  city0454      IOS   32   \n",
       "4          5  10294804    姚建平AzQoe545  platform_01  city0133       PC   33   \n",
       "...      ...       ...            ...          ...       ...      ...  ...   \n",
       "60546  60547  10414342        吴俊E9667     guide_02  city0089       PC   23   \n",
       "60547  60548  10414602     李明tEVm2570    search_02  city0086   Others   38   \n",
       "60548  60549  10414637    张建国EKEN2401    search_03  city0269   Others   35   \n",
       "60549  60550  10415023     王成fRlU5072     guide_02  city0044      IOS   23   \n",
       "60550  60551  10415138    白淑珍utLA6423  platform_02  city0077      IOS   27   \n",
       "\n",
       "          phonenum sex       创建时间     platform  国家  地区   省份 city chann_name  \\\n",
       "0      152****6601   女 2017-03-25          APP  中国  华北   河北   南宫     hao123   \n",
       "1      171****1663   女 2017-10-25          APP  中国  中南   湖南   耒阳       百度网盟   \n",
       "2      180****9153   女 2018-01-18          APP  中国  东北   吉林   辉南       百度联盟   \n",
       "3      133****1258   男 2018-02-10          APP  中国  中南   广东   台城      360网盟   \n",
       "4      184****3820   女 2019-08-30           PC  中国  华北   河北   邯郸       今日头条   \n",
       "...            ...  ..        ...          ...  ..  ..  ...  ...        ...   \n",
       "60546  175****8672   男 2020-01-27           PC  中国  东北   吉林  郑家屯      360导航   \n",
       "60547  187****8829   女 2020-01-28          APP  中国  东北   吉林   榆树       百度联盟   \n",
       "60548  177****5915   女 2020-01-28          APP  中国  华东   山东   菏泽       百度橱窗   \n",
       "60549  187****0047   女 2020-01-29  MiniProgram  中国  东北  黑龙江   铁力      360导航   \n",
       "60550  134****2937   女 2020-01-29          APP  中国  东北   吉林   舒兰       网易有道   \n",
       "\n",
       "       订单量  销量     消费金额     实付金额  \n",
       "0        6  28  13014.6  12614.6  \n",
       "1        4  36  28839.2  26979.2  \n",
       "2        4  16   4294.8   4294.8  \n",
       "3        4  19   3552.4   3512.4  \n",
       "4        4  12   1582.5   1392.5  \n",
       "...    ...  ..      ...      ...  \n",
       "60546    0   0      0.0      0.0  \n",
       "60547    0   0      0.0      0.0  \n",
       "60548    0   0      0.0      0.0  \n",
       "60549    0   0      0.0      0.0  \n",
       "60550    0   0      0.0      0.0  \n",
       "\n",
       "[60551 rows x 20 columns]"
      ]
     },
     "execution_count": 52,
     "metadata": {},
     "output_type": "execute_result"
    }
   ],
   "source": [
    "df4 = pd.read_excel('./销售数据.xlsx')\n",
    "df4"
   ]
  },
  {
   "cell_type": "code",
   "execution_count": 53,
   "id": "5968e7e7",
   "metadata": {},
   "outputs": [
    {
     "data": {
      "text/html": [
       "<div>\n",
       "<style scoped>\n",
       "    .dataframe tbody tr th:only-of-type {\n",
       "        vertical-align: middle;\n",
       "    }\n",
       "\n",
       "    .dataframe tbody tr th {\n",
       "        vertical-align: top;\n",
       "    }\n",
       "\n",
       "    .dataframe thead th {\n",
       "        text-align: right;\n",
       "    }\n",
       "</style>\n",
       "<table border=\"1\" class=\"dataframe\">\n",
       "  <thead>\n",
       "    <tr style=\"text-align: right;\">\n",
       "      <th></th>\n",
       "      <th>实付金额</th>\n",
       "    </tr>\n",
       "    <tr>\n",
       "      <th>地区</th>\n",
       "      <th></th>\n",
       "    </tr>\n",
       "  </thead>\n",
       "  <tbody>\n",
       "    <tr>\n",
       "      <th>东北</th>\n",
       "      <td>16606514.90</td>\n",
       "    </tr>\n",
       "    <tr>\n",
       "      <th>中南</th>\n",
       "      <td>20975829.83</td>\n",
       "    </tr>\n",
       "    <tr>\n",
       "      <th>华东</th>\n",
       "      <td>23245963.63</td>\n",
       "    </tr>\n",
       "    <tr>\n",
       "      <th>华北</th>\n",
       "      <td>9253650.46</td>\n",
       "    </tr>\n",
       "    <tr>\n",
       "      <th>西北</th>\n",
       "      <td>3394200.42</td>\n",
       "    </tr>\n",
       "    <tr>\n",
       "      <th>西南</th>\n",
       "      <td>6862232.70</td>\n",
       "    </tr>\n",
       "  </tbody>\n",
       "</table>\n",
       "</div>"
      ],
      "text/plain": [
       "           实付金额\n",
       "地区             \n",
       "东北  16606514.90\n",
       "中南  20975829.83\n",
       "华东  23245963.63\n",
       "华北   9253650.46\n",
       "西北   3394200.42\n",
       "西南   6862232.70"
      ]
     },
     "execution_count": 53,
     "metadata": {},
     "output_type": "execute_result"
    }
   ],
   "source": [
    "df5 = df4.groupby('地区').agg({'实付金额':'sum'})\n",
    "df5"
   ]
  },
  {
   "cell_type": "code",
   "execution_count": 54,
   "id": "395f31f7",
   "metadata": {},
   "outputs": [
    {
     "data": {
      "text/plain": [
       "<BarContainer object of 6 artists>"
      ]
     },
     "execution_count": 54,
     "metadata": {},
     "output_type": "execute_result"
    },
    {
     "data": {
      "image/png": "[encoded data removed]",
      "text/plain": [
       "<Figure size 432x288 with 1 Axes>"
      ]
     },
     "metadata": {
      "needs_background": "light"
     },
     "output_type": "display_data"
    }
   ],
   "source": [
    "x= df5.index\n",
    "y = df5['实付金额']\n",
    "plt.bar(x,y)"
   ]
  },
  {
   "cell_type": "markdown",
   "id": "44b24e8a",
   "metadata": {},
   "source": [
    "# 调整宽度"
   ]
  },
  {
   "cell_type": "code",
   "execution_count": 55,
   "id": "1f177de0",
   "metadata": {},
   "outputs": [
    {
     "data": {
      "text/plain": [
       "<BarContainer object of 6 artists>"
      ]
     },
     "execution_count": 55,
     "metadata": {},
     "output_type": "execute_result"
    },
    {
     "data": {
      "image/png": "[encoded data removed]",
      "text/plain": [
       "<Figure size 1440x576 with 1 Axes>"
      ]
     },
     "metadata": {
      "needs_background": "light"
     },
     "output_type": "display_data"
    }
   ],
   "source": [
    "plt.figure(figsize=(20,8))\n",
    "plt.bar(x,y,width = 0.5)"
   ]
  },
  {
   "cell_type": "markdown",
   "id": "56efeb56",
   "metadata": {},
   "source": [
    "# 条形图"
   ]
  },
  {
   "cell_type": "code",
   "execution_count": 71,
   "id": "85259021",
   "metadata": {},
   "outputs": [
    {
     "data": {
      "text/plain": [
       "<BarContainer object of 6 artists>"
      ]
     },
     "execution_count": 71,
     "metadata": {},
     "output_type": "execute_result"
    },
    {
     "data": {
      "image/png": "[encoded data removed]",
      "text/plain": [
       "<Figure size 1440x576 with 1 Axes>"
      ]
     },
     "metadata": {
      "needs_background": "light"
     },
     "output_type": "display_data"
    }
   ],
   "source": [
    "plt.figure(figsize=(20,8))\n",
    "x= df5.index\n",
    "y = df5['实付金额']\n",
    "plt.barh(x,y,height = 0.5)# height调整宽度"
   ]
  },
  {
   "cell_type": "markdown",
   "id": "ddccd81c",
   "metadata": {},
   "source": [
    "# 堆积柱形图"
   ]
  },
  {
   "cell_type": "code",
   "execution_count": 57,
   "id": "0b049bac",
   "metadata": {},
   "outputs": [
    {
     "data": {
      "text/html": [
       "<div>\n",
       "<style scoped>\n",
       "    .dataframe tbody tr th:only-of-type {\n",
       "        vertical-align: middle;\n",
       "    }\n",
       "\n",
       "    .dataframe tbody tr th {\n",
       "        vertical-align: top;\n",
       "    }\n",
       "\n",
       "    .dataframe thead th {\n",
       "        text-align: right;\n",
       "    }\n",
       "</style>\n",
       "<table border=\"1\" class=\"dataframe\">\n",
       "  <thead>\n",
       "    <tr style=\"text-align: right;\">\n",
       "      <th></th>\n",
       "      <th></th>\n",
       "      <th>销量</th>\n",
       "    </tr>\n",
       "    <tr>\n",
       "      <th>地区</th>\n",
       "      <th>sex</th>\n",
       "      <th></th>\n",
       "    </tr>\n",
       "  </thead>\n",
       "  <tbody>\n",
       "    <tr>\n",
       "      <th rowspan=\"2\" valign=\"top\">东北</th>\n",
       "      <th>女</th>\n",
       "      <td>19901</td>\n",
       "    </tr>\n",
       "    <tr>\n",
       "      <th>男</th>\n",
       "      <td>9055</td>\n",
       "    </tr>\n",
       "    <tr>\n",
       "      <th rowspan=\"2\" valign=\"top\">中南</th>\n",
       "      <th>女</th>\n",
       "      <td>24358</td>\n",
       "    </tr>\n",
       "    <tr>\n",
       "      <th>男</th>\n",
       "      <td>11725</td>\n",
       "    </tr>\n",
       "    <tr>\n",
       "      <th rowspan=\"2\" valign=\"top\">华东</th>\n",
       "      <th>女</th>\n",
       "      <td>26278</td>\n",
       "    </tr>\n",
       "    <tr>\n",
       "      <th>男</th>\n",
       "      <td>12106</td>\n",
       "    </tr>\n",
       "    <tr>\n",
       "      <th rowspan=\"2\" valign=\"top\">华北</th>\n",
       "      <th>女</th>\n",
       "      <td>10250</td>\n",
       "    </tr>\n",
       "    <tr>\n",
       "      <th>男</th>\n",
       "      <td>4932</td>\n",
       "    </tr>\n",
       "    <tr>\n",
       "      <th rowspan=\"2\" valign=\"top\">西北</th>\n",
       "      <th>女</th>\n",
       "      <td>4010</td>\n",
       "    </tr>\n",
       "    <tr>\n",
       "      <th>男</th>\n",
       "      <td>2025</td>\n",
       "    </tr>\n",
       "    <tr>\n",
       "      <th rowspan=\"2\" valign=\"top\">西南</th>\n",
       "      <th>女</th>\n",
       "      <td>7384</td>\n",
       "    </tr>\n",
       "    <tr>\n",
       "      <th>男</th>\n",
       "      <td>3375</td>\n",
       "    </tr>\n",
       "  </tbody>\n",
       "</table>\n",
       "</div>"
      ],
      "text/plain": [
       "           销量\n",
       "地区 sex       \n",
       "东北 女    19901\n",
       "   男     9055\n",
       "中南 女    24358\n",
       "   男    11725\n",
       "华东 女    26278\n",
       "   男    12106\n",
       "华北 女    10250\n",
       "   男     4932\n",
       "西北 女     4010\n",
       "   男     2025\n",
       "西南 女     7384\n",
       "   男     3375"
      ]
     },
     "execution_count": 57,
     "metadata": {},
     "output_type": "execute_result"
    }
   ],
   "source": [
    "df6 = df4.groupby(['地区','sex']).agg({'销量':'sum'})\n",
    "df6"
   ]
  },
  {
   "cell_type": "code",
   "execution_count": 58,
   "id": "e741f628",
   "metadata": {},
   "outputs": [
    {
     "data": {
      "text/html": [
       "<div>\n",
       "<style scoped>\n",
       "    .dataframe tbody tr th:only-of-type {\n",
       "        vertical-align: middle;\n",
       "    }\n",
       "\n",
       "    .dataframe tbody tr th {\n",
       "        vertical-align: top;\n",
       "    }\n",
       "\n",
       "    .dataframe thead tr th {\n",
       "        text-align: left;\n",
       "    }\n",
       "\n",
       "    .dataframe thead tr:last-of-type th {\n",
       "        text-align: right;\n",
       "    }\n",
       "</style>\n",
       "<table border=\"1\" class=\"dataframe\">\n",
       "  <thead>\n",
       "    <tr>\n",
       "      <th></th>\n",
       "      <th colspan=\"2\" halign=\"left\">销量</th>\n",
       "    </tr>\n",
       "    <tr>\n",
       "      <th>sex</th>\n",
       "      <th>女</th>\n",
       "      <th>男</th>\n",
       "    </tr>\n",
       "    <tr>\n",
       "      <th>地区</th>\n",
       "      <th></th>\n",
       "      <th></th>\n",
       "    </tr>\n",
       "  </thead>\n",
       "  <tbody>\n",
       "    <tr>\n",
       "      <th>东北</th>\n",
       "      <td>19901</td>\n",
       "      <td>9055</td>\n",
       "    </tr>\n",
       "    <tr>\n",
       "      <th>中南</th>\n",
       "      <td>24358</td>\n",
       "      <td>11725</td>\n",
       "    </tr>\n",
       "    <tr>\n",
       "      <th>华东</th>\n",
       "      <td>26278</td>\n",
       "      <td>12106</td>\n",
       "    </tr>\n",
       "    <tr>\n",
       "      <th>华北</th>\n",
       "      <td>10250</td>\n",
       "      <td>4932</td>\n",
       "    </tr>\n",
       "    <tr>\n",
       "      <th>西北</th>\n",
       "      <td>4010</td>\n",
       "      <td>2025</td>\n",
       "    </tr>\n",
       "    <tr>\n",
       "      <th>西南</th>\n",
       "      <td>7384</td>\n",
       "      <td>3375</td>\n",
       "    </tr>\n",
       "  </tbody>\n",
       "</table>\n",
       "</div>"
      ],
      "text/plain": [
       "        销量       \n",
       "sex      女      男\n",
       "地区               \n",
       "东北   19901   9055\n",
       "中南   24358  11725\n",
       "华东   26278  12106\n",
       "华北   10250   4932\n",
       "西北    4010   2025\n",
       "西南    7384   3375"
      ]
     },
     "execution_count": 58,
     "metadata": {},
     "output_type": "execute_result"
    }
   ],
   "source": [
    "# unstack()函数会将最内层的索引转换为列\n",
    "df6 = df4.groupby(['地区','sex']).agg({'销量':'sum'}).unstack()\n",
    "df6"
   ]
  },
  {
   "cell_type": "code",
   "execution_count": 59,
   "id": "020d369f",
   "metadata": {},
   "outputs": [],
   "source": [
    "# 使用pandas直接画图"
   ]
  },
  {
   "cell_type": "code",
   "execution_count": 60,
   "id": "97e5c436",
   "metadata": {},
   "outputs": [
    {
     "data": {
      "text/plain": [
       "<AxesSubplot:xlabel='地区'>"
      ]
     },
     "execution_count": 60,
     "metadata": {},
     "output_type": "execute_result"
    },
    {
     "data": {
      "image/png": "[encoded data removed]",
      "text/plain": [
       "<Figure size 432x288 with 1 Axes>"
      ]
     },
     "metadata": {
      "needs_background": "light"
     },
     "output_type": "display_data"
    }
   ],
   "source": [
    "df6.plot(kind = 'bar')# 此图为并列柱形图"
   ]
  },
  {
   "cell_type": "code",
   "execution_count": 61,
   "id": "5e2c663b",
   "metadata": {},
   "outputs": [
    {
     "data": {
      "text/plain": [
       "<AxesSubplot:xlabel='地区'>"
      ]
     },
     "execution_count": 61,
     "metadata": {},
     "output_type": "execute_result"
    },
    {
     "data": {
      "image/png": "[encoded data removed]",
      "text/plain": [
       "<Figure size 432x288 with 1 Axes>"
      ]
     },
     "metadata": {
      "needs_background": "light"
     },
     "output_type": "display_data"
    }
   ],
   "source": [
    "df6.plot(kind = 'bar',stacked = True)# 此图为堆积柱形图"
   ]
  },
  {
   "cell_type": "markdown",
   "id": "179ec5e6",
   "metadata": {},
   "source": [
    "# 直方图"
   ]
  },
  {
   "cell_type": "code",
   "execution_count": 62,
   "id": "a9b4afa8",
   "metadata": {},
   "outputs": [
    {
     "data": {
      "image/png": "[encoded data removed]",
      "text/plain": [
       "<Figure size 432x288 with 1 Axes>"
      ]
     },
     "metadata": {
      "needs_background": "light"
     },
     "output_type": "display_data"
    }
   ],
   "source": [
    "# 生成数据\n",
    "data4 = [1, 2, 2, 3, 3, 3, 4, 4, 5]\n",
    "\n",
    "# 画直方图\n",
    "plt.hist(data4)\n",
    "\n",
    "# 显示图像\n",
    "plt.show()"
   ]
  },
  {
   "cell_type": "code",
   "execution_count": 63,
   "id": "442c1d34",
   "metadata": {},
   "outputs": [
    {
     "data": {
      "text/html": [
       "<div>\n",
       "<style scoped>\n",
       "    .dataframe tbody tr th:only-of-type {\n",
       "        vertical-align: middle;\n",
       "    }\n",
       "\n",
       "    .dataframe tbody tr th {\n",
       "        vertical-align: top;\n",
       "    }\n",
       "\n",
       "    .dataframe thead th {\n",
       "        text-align: right;\n",
       "    }\n",
       "</style>\n",
       "<table border=\"1\" class=\"dataframe\">\n",
       "  <thead>\n",
       "    <tr style=\"text-align: right;\">\n",
       "      <th></th>\n",
       "      <th>序号</th>\n",
       "      <th>user_id</th>\n",
       "      <th>user_name</th>\n",
       "      <th>chann_id</th>\n",
       "      <th>city_id</th>\n",
       "      <th>system</th>\n",
       "      <th>age</th>\n",
       "      <th>phonenum</th>\n",
       "      <th>sex</th>\n",
       "      <th>创建时间</th>\n",
       "      <th>platform</th>\n",
       "      <th>国家</th>\n",
       "      <th>地区</th>\n",
       "      <th>省份</th>\n",
       "      <th>city</th>\n",
       "      <th>chann_name</th>\n",
       "      <th>订单量</th>\n",
       "      <th>销量</th>\n",
       "      <th>消费金额</th>\n",
       "      <th>实付金额</th>\n",
       "    </tr>\n",
       "  </thead>\n",
       "  <tbody>\n",
       "    <tr>\n",
       "      <th>0</th>\n",
       "      <td>1</td>\n",
       "      <td>10013788</td>\n",
       "      <td>敖大戴</td>\n",
       "      <td>guide_01</td>\n",
       "      <td>city0138</td>\n",
       "      <td>IOS</td>\n",
       "      <td>46</td>\n",
       "      <td>152****6601</td>\n",
       "      <td>女</td>\n",
       "      <td>2017-03-25</td>\n",
       "      <td>APP</td>\n",
       "      <td>中国</td>\n",
       "      <td>华北</td>\n",
       "      <td>河北</td>\n",
       "      <td>南宫</td>\n",
       "      <td>hao123</td>\n",
       "      <td>6</td>\n",
       "      <td>28</td>\n",
       "      <td>13014.6</td>\n",
       "      <td>12614.6</td>\n",
       "    </tr>\n",
       "    <tr>\n",
       "      <th>1</th>\n",
       "      <td>2</td>\n",
       "      <td>10048735</td>\n",
       "      <td>浦葛卫之翼环城店一一柯晓闫</td>\n",
       "      <td>union_03</td>\n",
       "      <td>city0548</td>\n",
       "      <td>IOS</td>\n",
       "      <td>60</td>\n",
       "      <td>171****1663</td>\n",
       "      <td>女</td>\n",
       "      <td>2017-10-25</td>\n",
       "      <td>APP</td>\n",
       "      <td>中国</td>\n",
       "      <td>中南</td>\n",
       "      <td>湖南</td>\n",
       "      <td>耒阳</td>\n",
       "      <td>百度网盟</td>\n",
       "      <td>4</td>\n",
       "      <td>36</td>\n",
       "      <td>28839.2</td>\n",
       "      <td>26979.2</td>\n",
       "    </tr>\n",
       "    <tr>\n",
       "      <th>2</th>\n",
       "      <td>3</td>\n",
       "      <td>10062827</td>\n",
       "      <td>亡命天涯不如早点回卜。</td>\n",
       "      <td>search_02</td>\n",
       "      <td>city0061</td>\n",
       "      <td>Android</td>\n",
       "      <td>54</td>\n",
       "      <td>180****9153</td>\n",
       "      <td>女</td>\n",
       "      <td>2018-01-18</td>\n",
       "      <td>APP</td>\n",
       "      <td>中国</td>\n",
       "      <td>东北</td>\n",
       "      <td>吉林</td>\n",
       "      <td>辉南</td>\n",
       "      <td>百度联盟</td>\n",
       "      <td>4</td>\n",
       "      <td>16</td>\n",
       "      <td>4294.8</td>\n",
       "      <td>4294.8</td>\n",
       "    </tr>\n",
       "    <tr>\n",
       "      <th>3</th>\n",
       "      <td>4</td>\n",
       "      <td>10066683</td>\n",
       "      <td>闵屈戎</td>\n",
       "      <td>union_01</td>\n",
       "      <td>city0454</td>\n",
       "      <td>IOS</td>\n",
       "      <td>32</td>\n",
       "      <td>133****1258</td>\n",
       "      <td>男</td>\n",
       "      <td>2018-02-10</td>\n",
       "      <td>APP</td>\n",
       "      <td>中国</td>\n",
       "      <td>中南</td>\n",
       "      <td>广东</td>\n",
       "      <td>台城</td>\n",
       "      <td>360网盟</td>\n",
       "      <td>4</td>\n",
       "      <td>19</td>\n",
       "      <td>3552.4</td>\n",
       "      <td>3512.4</td>\n",
       "    </tr>\n",
       "    <tr>\n",
       "      <th>4</th>\n",
       "      <td>5</td>\n",
       "      <td>10294804</td>\n",
       "      <td>姚建平AzQoe545</td>\n",
       "      <td>platform_01</td>\n",
       "      <td>city0133</td>\n",
       "      <td>PC</td>\n",
       "      <td>33</td>\n",
       "      <td>184****3820</td>\n",
       "      <td>女</td>\n",
       "      <td>2019-08-30</td>\n",
       "      <td>PC</td>\n",
       "      <td>中国</td>\n",
       "      <td>华北</td>\n",
       "      <td>河北</td>\n",
       "      <td>邯郸</td>\n",
       "      <td>今日头条</td>\n",
       "      <td>4</td>\n",
       "      <td>12</td>\n",
       "      <td>1582.5</td>\n",
       "      <td>1392.5</td>\n",
       "    </tr>\n",
       "    <tr>\n",
       "      <th>...</th>\n",
       "      <td>...</td>\n",
       "      <td>...</td>\n",
       "      <td>...</td>\n",
       "      <td>...</td>\n",
       "      <td>...</td>\n",
       "      <td>...</td>\n",
       "      <td>...</td>\n",
       "      <td>...</td>\n",
       "      <td>...</td>\n",
       "      <td>...</td>\n",
       "      <td>...</td>\n",
       "      <td>...</td>\n",
       "      <td>...</td>\n",
       "      <td>...</td>\n",
       "      <td>...</td>\n",
       "      <td>...</td>\n",
       "      <td>...</td>\n",
       "      <td>...</td>\n",
       "      <td>...</td>\n",
       "      <td>...</td>\n",
       "    </tr>\n",
       "    <tr>\n",
       "      <th>60546</th>\n",
       "      <td>60547</td>\n",
       "      <td>10414342</td>\n",
       "      <td>吴俊E9667</td>\n",
       "      <td>guide_02</td>\n",
       "      <td>city0089</td>\n",
       "      <td>PC</td>\n",
       "      <td>23</td>\n",
       "      <td>175****8672</td>\n",
       "      <td>男</td>\n",
       "      <td>2020-01-27</td>\n",
       "      <td>PC</td>\n",
       "      <td>中国</td>\n",
       "      <td>东北</td>\n",
       "      <td>吉林</td>\n",
       "      <td>郑家屯</td>\n",
       "      <td>360导航</td>\n",
       "      <td>0</td>\n",
       "      <td>0</td>\n",
       "      <td>0.0</td>\n",
       "      <td>0.0</td>\n",
       "    </tr>\n",
       "    <tr>\n",
       "      <th>60547</th>\n",
       "      <td>60548</td>\n",
       "      <td>10414602</td>\n",
       "      <td>李明tEVm2570</td>\n",
       "      <td>search_02</td>\n",
       "      <td>city0086</td>\n",
       "      <td>Others</td>\n",
       "      <td>38</td>\n",
       "      <td>187****8829</td>\n",
       "      <td>女</td>\n",
       "      <td>2020-01-28</td>\n",
       "      <td>APP</td>\n",
       "      <td>中国</td>\n",
       "      <td>东北</td>\n",
       "      <td>吉林</td>\n",
       "      <td>榆树</td>\n",
       "      <td>百度联盟</td>\n",
       "      <td>0</td>\n",
       "      <td>0</td>\n",
       "      <td>0.0</td>\n",
       "      <td>0.0</td>\n",
       "    </tr>\n",
       "    <tr>\n",
       "      <th>60548</th>\n",
       "      <td>60549</td>\n",
       "      <td>10414637</td>\n",
       "      <td>张建国EKEN2401</td>\n",
       "      <td>search_03</td>\n",
       "      <td>city0269</td>\n",
       "      <td>Others</td>\n",
       "      <td>35</td>\n",
       "      <td>177****5915</td>\n",
       "      <td>女</td>\n",
       "      <td>2020-01-28</td>\n",
       "      <td>APP</td>\n",
       "      <td>中国</td>\n",
       "      <td>华东</td>\n",
       "      <td>山东</td>\n",
       "      <td>菏泽</td>\n",
       "      <td>百度橱窗</td>\n",
       "      <td>0</td>\n",
       "      <td>0</td>\n",
       "      <td>0.0</td>\n",
       "      <td>0.0</td>\n",
       "    </tr>\n",
       "    <tr>\n",
       "      <th>60549</th>\n",
       "      <td>60550</td>\n",
       "      <td>10415023</td>\n",
       "      <td>王成fRlU5072</td>\n",
       "      <td>guide_02</td>\n",
       "      <td>city0044</td>\n",
       "      <td>IOS</td>\n",
       "      <td>23</td>\n",
       "      <td>187****0047</td>\n",
       "      <td>女</td>\n",
       "      <td>2020-01-29</td>\n",
       "      <td>MiniProgram</td>\n",
       "      <td>中国</td>\n",
       "      <td>东北</td>\n",
       "      <td>黑龙江</td>\n",
       "      <td>铁力</td>\n",
       "      <td>360导航</td>\n",
       "      <td>0</td>\n",
       "      <td>0</td>\n",
       "      <td>0.0</td>\n",
       "      <td>0.0</td>\n",
       "    </tr>\n",
       "    <tr>\n",
       "      <th>60550</th>\n",
       "      <td>60551</td>\n",
       "      <td>10415138</td>\n",
       "      <td>白淑珍utLA6423</td>\n",
       "      <td>platform_02</td>\n",
       "      <td>city0077</td>\n",
       "      <td>IOS</td>\n",
       "      <td>27</td>\n",
       "      <td>134****2937</td>\n",
       "      <td>女</td>\n",
       "      <td>2020-01-29</td>\n",
       "      <td>APP</td>\n",
       "      <td>中国</td>\n",
       "      <td>东北</td>\n",
       "      <td>吉林</td>\n",
       "      <td>舒兰</td>\n",
       "      <td>网易有道</td>\n",
       "      <td>0</td>\n",
       "      <td>0</td>\n",
       "      <td>0.0</td>\n",
       "      <td>0.0</td>\n",
       "    </tr>\n",
       "  </tbody>\n",
       "</table>\n",
       "<p>60551 rows × 20 columns</p>\n",
       "</div>"
      ],
      "text/plain": [
       "          序号   user_id      user_name     chann_id   city_id   system  age  \\\n",
       "0          1  10013788            敖大戴     guide_01  city0138      IOS   46   \n",
       "1          2  10048735  浦葛卫之翼环城店一一柯晓闫     union_03  city0548      IOS   60   \n",
       "2          3  10062827    亡命天涯不如早点回卜。    search_02  city0061  Android   54   \n",
       "3          4  10066683            闵屈戎     union_01  city0454      IOS   32   \n",
       "4          5  10294804    姚建平AzQoe545  platform_01  city0133       PC   33   \n",
       "...      ...       ...            ...          ...       ...      ...  ...   \n",
       "60546  60547  10414342        吴俊E9667     guide_02  city0089       PC   23   \n",
       "60547  60548  10414602     李明tEVm2570    search_02  city0086   Others   38   \n",
       "60548  60549  10414637    张建国EKEN2401    search_03  city0269   Others   35   \n",
       "60549  60550  10415023     王成fRlU5072     guide_02  city0044      IOS   23   \n",
       "60550  60551  10415138    白淑珍utLA6423  platform_02  city0077      IOS   27   \n",
       "\n",
       "          phonenum sex       创建时间     platform  国家  地区   省份 city chann_name  \\\n",
       "0      152****6601   女 2017-03-25          APP  中国  华北   河北   南宫     hao123   \n",
       "1      171****1663   女 2017-10-25          APP  中国  中南   湖南   耒阳       百度网盟   \n",
       "2      180****9153   女 2018-01-18          APP  中国  东北   吉林   辉南       百度联盟   \n",
       "3      133****1258   男 2018-02-10          APP  中国  中南   广东   台城      360网盟   \n",
       "4      184****3820   女 2019-08-30           PC  中国  华北   河北   邯郸       今日头条   \n",
       "...            ...  ..        ...          ...  ..  ..  ...  ...        ...   \n",
       "60546  175****8672   男 2020-01-27           PC  中国  东北   吉林  郑家屯      360导航   \n",
       "60547  187****8829   女 2020-01-28          APP  中国  东北   吉林   榆树       百度联盟   \n",
       "60548  177****5915   女 2020-01-28          APP  中国  华东   山东   菏泽       百度橱窗   \n",
       "60549  187****0047   女 2020-01-29  MiniProgram  中国  东北  黑龙江   铁力      360导航   \n",
       "60550  134****2937   女 2020-01-29          APP  中国  东北   吉林   舒兰       网易有道   \n",
       "\n",
       "       订单量  销量     消费金额     实付金额  \n",
       "0        6  28  13014.6  12614.6  \n",
       "1        4  36  28839.2  26979.2  \n",
       "2        4  16   4294.8   4294.8  \n",
       "3        4  19   3552.4   3512.4  \n",
       "4        4  12   1582.5   1392.5  \n",
       "...    ...  ..      ...      ...  \n",
       "60546    0   0      0.0      0.0  \n",
       "60547    0   0      0.0      0.0  \n",
       "60548    0   0      0.0      0.0  \n",
       "60549    0   0      0.0      0.0  \n",
       "60550    0   0      0.0      0.0  \n",
       "\n",
       "[60551 rows x 20 columns]"
      ]
     },
     "execution_count": 63,
     "metadata": {},
     "output_type": "execute_result"
    }
   ],
   "source": [
    "df4"
   ]
  },
  {
   "cell_type": "code",
   "execution_count": 64,
   "id": "b0f2c27c",
   "metadata": {},
   "outputs": [
    {
     "data": {
      "text/plain": [
       "0        28\n",
       "1        36\n",
       "2        16\n",
       "3        19\n",
       "4        12\n",
       "         ..\n",
       "60546     0\n",
       "60547     0\n",
       "60548     0\n",
       "60549     0\n",
       "60550     0\n",
       "Name: 销量, Length: 60551, dtype: int64"
      ]
     },
     "execution_count": 64,
     "metadata": {},
     "output_type": "execute_result"
    }
   ],
   "source": [
    "df4['销量']"
   ]
  },
  {
   "cell_type": "code",
   "execution_count": 65,
   "id": "1436767b",
   "metadata": {},
   "outputs": [
    {
     "data": {
      "text/plain": [
       "(array([5.1728e+04, 5.5750e+03, 2.1690e+03, 7.4700e+02, 2.3200e+02,\n",
       "        7.5000e+01, 1.5000e+01, 9.0000e+00, 0.0000e+00, 1.0000e+00]),\n",
       " array([ 0. ,  5.1, 10.2, 15.3, 20.4, 25.5, 30.6, 35.7, 40.8, 45.9, 51. ]),\n",
       " <BarContainer object of 10 artists>)"
      ]
     },
     "execution_count": 65,
     "metadata": {},
     "output_type": "execute_result"
    },
    {
     "data": {
      "image/png": "[encoded data removed]",
      "text/plain": [
       "<Figure size 432x288 with 1 Axes>"
      ]
     },
     "metadata": {
      "needs_background": "light"
     },
     "output_type": "display_data"
    }
   ],
   "source": [
    "plt.hist(df4['销量'])"
   ]
  },
  {
   "cell_type": "code",
   "execution_count": 66,
   "id": "fdd10897",
   "metadata": {},
   "outputs": [
    {
     "data": {
      "text/plain": [
       "Text(0, 0.5, '出现频次')"
      ]
     },
     "execution_count": 66,
     "metadata": {},
     "output_type": "execute_result"
    },
    {
     "data": {
      "image/png": "[encoded data removed]",
      "text/plain": [
       "<Figure size 1440x576 with 1 Axes>"
      ]
     },
     "metadata": {
      "needs_background": "light"
     },
     "output_type": "display_data"
    }
   ],
   "source": [
    "plt.figure(figsize=(20,8))\n",
    "# 添加表格\n",
    "plt.grid(linestyle = '--',alpha = 0.5)\n",
    "plt.hist(df4['销量'])\n",
    "plt.xlabel('销量')\n",
    "plt.ylabel('出现频次')"
   ]
  },
  {
   "cell_type": "markdown",
   "id": "5dbc2368",
   "metadata": {},
   "source": [
    "# 饼图"
   ]
  },
  {
   "cell_type": "code",
   "execution_count": 67,
   "id": "0a2d4311",
   "metadata": {},
   "outputs": [
    {
     "data": {
      "text/html": [
       "<div>\n",
       "<style scoped>\n",
       "    .dataframe tbody tr th:only-of-type {\n",
       "        vertical-align: middle;\n",
       "    }\n",
       "\n",
       "    .dataframe tbody tr th {\n",
       "        vertical-align: top;\n",
       "    }\n",
       "\n",
       "    .dataframe thead th {\n",
       "        text-align: right;\n",
       "    }\n",
       "</style>\n",
       "<table border=\"1\" class=\"dataframe\">\n",
       "  <thead>\n",
       "    <tr style=\"text-align: right;\">\n",
       "      <th></th>\n",
       "      <th>销量</th>\n",
       "    </tr>\n",
       "    <tr>\n",
       "      <th>地区</th>\n",
       "      <th></th>\n",
       "    </tr>\n",
       "  </thead>\n",
       "  <tbody>\n",
       "    <tr>\n",
       "      <th>东北</th>\n",
       "      <td>28956</td>\n",
       "    </tr>\n",
       "    <tr>\n",
       "      <th>中南</th>\n",
       "      <td>36083</td>\n",
       "    </tr>\n",
       "    <tr>\n",
       "      <th>华东</th>\n",
       "      <td>38384</td>\n",
       "    </tr>\n",
       "    <tr>\n",
       "      <th>华北</th>\n",
       "      <td>15182</td>\n",
       "    </tr>\n",
       "    <tr>\n",
       "      <th>西北</th>\n",
       "      <td>6035</td>\n",
       "    </tr>\n",
       "    <tr>\n",
       "      <th>西南</th>\n",
       "      <td>10759</td>\n",
       "    </tr>\n",
       "  </tbody>\n",
       "</table>\n",
       "</div>"
      ],
      "text/plain": [
       "       销量\n",
       "地区       \n",
       "东北  28956\n",
       "中南  36083\n",
       "华东  38384\n",
       "华北  15182\n",
       "西北   6035\n",
       "西南  10759"
      ]
     },
     "execution_count": 67,
     "metadata": {},
     "output_type": "execute_result"
    }
   ],
   "source": [
    "df4.groupby('地区').agg({'销量':'sum'})"
   ]
  },
  {
   "cell_type": "code",
   "execution_count": 68,
   "id": "f7ad6c37",
   "metadata": {},
   "outputs": [
    {
     "data": {
      "text/html": [
       "<div>\n",
       "<style scoped>\n",
       "    .dataframe tbody tr th:only-of-type {\n",
       "        vertical-align: middle;\n",
       "    }\n",
       "\n",
       "    .dataframe tbody tr th {\n",
       "        vertical-align: top;\n",
       "    }\n",
       "\n",
       "    .dataframe thead th {\n",
       "        text-align: right;\n",
       "    }\n",
       "</style>\n",
       "<table border=\"1\" class=\"dataframe\">\n",
       "  <thead>\n",
       "    <tr style=\"text-align: right;\">\n",
       "      <th></th>\n",
       "      <th>销量</th>\n",
       "    </tr>\n",
       "    <tr>\n",
       "      <th>地区</th>\n",
       "      <th></th>\n",
       "    </tr>\n",
       "  </thead>\n",
       "  <tbody>\n",
       "    <tr>\n",
       "      <th>华东</th>\n",
       "      <td>38384</td>\n",
       "    </tr>\n",
       "    <tr>\n",
       "      <th>中南</th>\n",
       "      <td>36083</td>\n",
       "    </tr>\n",
       "    <tr>\n",
       "      <th>东北</th>\n",
       "      <td>28956</td>\n",
       "    </tr>\n",
       "    <tr>\n",
       "      <th>华北</th>\n",
       "      <td>15182</td>\n",
       "    </tr>\n",
       "    <tr>\n",
       "      <th>西南</th>\n",
       "      <td>10759</td>\n",
       "    </tr>\n",
       "    <tr>\n",
       "      <th>西北</th>\n",
       "      <td>6035</td>\n",
       "    </tr>\n",
       "  </tbody>\n",
       "</table>\n",
       "</div>"
      ],
      "text/plain": [
       "       销量\n",
       "地区       \n",
       "华东  38384\n",
       "中南  36083\n",
       "东北  28956\n",
       "华北  15182\n",
       "西南  10759\n",
       "西北   6035"
      ]
     },
     "execution_count": 68,
     "metadata": {},
     "output_type": "execute_result"
    }
   ],
   "source": [
    "df7= df4[['地区','销量']].groupby('地区').agg({'销量':'sum'}).sort_values(by = '销量',ascending= False)\n",
    "df7"
   ]
  },
  {
   "cell_type": "code",
   "execution_count": 69,
   "id": "b838c579",
   "metadata": {},
   "outputs": [
    {
     "data": {
      "text/plain": [
       "([<matplotlib.patches.Wedge at 0x24f9db36ee0>,\n",
       "  <matplotlib.patches.Wedge at 0x24f9db36820>,\n",
       "  <matplotlib.patches.Wedge at 0x24f9d4742e0>,\n",
       "  <matplotlib.patches.Wedge at 0x24f9d474820>,\n",
       "  <matplotlib.patches.Wedge at 0x24f9d54a7f0>,\n",
       "  <matplotlib.patches.Wedge at 0x24f9d54aca0>],\n",
       " [Text(0.691836797347895, 0.8551969631818204, '华东'),\n",
       "  Text(-0.9528639768071948, 0.5495909767301298, '中南'),\n",
       "  Text(-0.6073272849269283, -0.9171442465519182, '东北'),\n",
       "  Text(0.46774843347100514, -0.9955960039018944, '华北'),\n",
       "  Text(0.9492604528580844, -0.5557918608972832, '西南'),\n",
       "  Text(1.0892334588320394, -0.15352677994666705, '西北')],\n",
       " [Text(0.37736552582612454, 0.4664710708264474, '28.3%'),\n",
       "  Text(-0.5197439873493789, 0.29977689639825256, '26.6%'),\n",
       "  Text(-0.33126942814196086, -0.500260498119228, '21.4%'),\n",
       "  Text(0.25513550916600275, -0.5430523657646696, '11.2%'),\n",
       "  Text(0.5177784288316823, -0.3031591968530635, '7.9%'),\n",
       "  Text(0.5941273411811123, -0.0837418799709093, '4.5%')])"
      ]
     },
     "execution_count": 69,
     "metadata": {},
     "output_type": "execute_result"
    },
    {
     "data": {
      "image/png": "[encoded data removed]",
      "text/plain": [
       "<Figure size 432x288 with 1 Axes>"
      ]
     },
     "metadata": {},
     "output_type": "display_data"
    }
   ],
   "source": [
    "di = df7.index\n",
    "sale = df7['销量']\n",
    "#  '%1.1f%%保留小数点后一位\n",
    "plt.pie(sale,labels = di,autopct = '%1.1f%%')"
   ]
  },
  {
   "cell_type": "code",
   "execution_count": null,
   "id": "ee290c96",
   "metadata": {},
   "outputs": [],
   "source": []
  }
 ],
 "metadata": {
  "kernelspec": {
   "display_name": "Python 3 (ipykernel)",
   "language": "python",
   "name": "python3"
  },
  "language_info": {
   "codemirror_mode": {
    "name": "ipython",
    "version": 3
   },
   "file_extension": ".py",
   "mimetype": "text/x-python",
   "name": "python",
   "nbconvert_exporter": "python",
   "pygments_lexer": "ipython3",
   "version": "3.9.7"
  }
 },
 "nbformat": 4,
 "nbformat_minor": 5
}
